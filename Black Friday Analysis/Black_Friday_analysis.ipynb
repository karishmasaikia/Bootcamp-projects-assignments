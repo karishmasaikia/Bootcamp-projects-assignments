{
 "cells": [
  {
   "cell_type": "markdown",
   "metadata": {},
   "source": [
    "# An Analysis on Black Friday Sales of a store\n",
    " \n",
    "This Data Analysis is done on the purchase of a particular retail store on a Black Friday. The goal of this analysis is to see the different independent variables and how it influences the sales which is considered the dependent variable. \n",
    "\n",
    "\n",
    "## The Dataset\n",
    "\n",
    "The dataset is taken from Kaggle which states that it has taken the data from Analytics Vidhya.\n",
    "The dataset can be found [here](https://www.kaggle.com/mehdidag/black-friday#BlackFriday.csv). The dataset is of 550 000 observations and it contains different kinds of variables either numerical or categorical.\n",
    "\n",
    "## Descriptive & Predictive Analysis\n",
    "+ Different types of descriptive analysis is performed for each independent variable on total purchase\n",
    "+ Predictive Analytics is performed twice. \n",
    "* When independent variable id only Age\n",
    "* When independent variable is more than just one like city category, gender etc.\n",
    "\n",
    "*To handle different categorical values- [this link](https://www.datacamp.com/community/tutorials/categorical-data#encoding)  is followed*\n",
    "\n",
    "\n",
    "## Packages used\n",
    "+ Pandas\n",
    "+ Matplotlib\n",
    "+ Numpy \n",
    "+ Sci-kit Learn\n"
   ]
  },
  {
   "cell_type": "code",
   "execution_count": 182,
   "metadata": {},
   "outputs": [],
   "source": [
    "import pandas as pd\n",
    "import matplotlib.pyplot as plt\n",
    "import numpy as np\n",
    "\n",
    "#increases the font size of labels in the plots\n",
    "plt.rcParams.update({'font.size': 12})"
   ]
  },
  {
   "cell_type": "code",
   "execution_count": 183,
   "metadata": {},
   "outputs": [
    {
     "name": "stdout",
     "output_type": "stream",
     "text": [
      "Index(['User_ID', 'Product_ID', 'Gender', 'Age', 'Occupation', 'City_Category',\n",
      "       'Stay_In_Current_City_Years', 'Marital_Status', 'Product_Category_1',\n",
      "       'Product_Category_2', 'Product_Category_3', 'Purchase'],\n",
      "      dtype='object')\n"
     ]
    },
    {
     "data": {
      "text/html": [
       "<div>\n",
       "<style scoped>\n",
       "    .dataframe tbody tr th:only-of-type {\n",
       "        vertical-align: middle;\n",
       "    }\n",
       "\n",
       "    .dataframe tbody tr th {\n",
       "        vertical-align: top;\n",
       "    }\n",
       "\n",
       "    .dataframe thead th {\n",
       "        text-align: right;\n",
       "    }\n",
       "</style>\n",
       "<table border=\"1\" class=\"dataframe\">\n",
       "  <thead>\n",
       "    <tr style=\"text-align: right;\">\n",
       "      <th></th>\n",
       "      <th>User_ID</th>\n",
       "      <th>Product_ID</th>\n",
       "      <th>Gender</th>\n",
       "      <th>Age</th>\n",
       "      <th>Occupation</th>\n",
       "      <th>City_Category</th>\n",
       "      <th>Stay_In_Current_City_Years</th>\n",
       "      <th>Marital_Status</th>\n",
       "      <th>Product_Category_1</th>\n",
       "      <th>Product_Category_2</th>\n",
       "      <th>Product_Category_3</th>\n",
       "      <th>Purchase</th>\n",
       "    </tr>\n",
       "  </thead>\n",
       "  <tbody>\n",
       "    <tr>\n",
       "      <th>0</th>\n",
       "      <td>1000001</td>\n",
       "      <td>P00069042</td>\n",
       "      <td>F</td>\n",
       "      <td>0-17</td>\n",
       "      <td>10</td>\n",
       "      <td>A</td>\n",
       "      <td>2</td>\n",
       "      <td>0</td>\n",
       "      <td>3</td>\n",
       "      <td>NaN</td>\n",
       "      <td>NaN</td>\n",
       "      <td>8370</td>\n",
       "    </tr>\n",
       "    <tr>\n",
       "      <th>1</th>\n",
       "      <td>1000001</td>\n",
       "      <td>P00248942</td>\n",
       "      <td>F</td>\n",
       "      <td>0-17</td>\n",
       "      <td>10</td>\n",
       "      <td>A</td>\n",
       "      <td>2</td>\n",
       "      <td>0</td>\n",
       "      <td>1</td>\n",
       "      <td>6.0</td>\n",
       "      <td>14.0</td>\n",
       "      <td>15200</td>\n",
       "    </tr>\n",
       "    <tr>\n",
       "      <th>2</th>\n",
       "      <td>1000001</td>\n",
       "      <td>P00087842</td>\n",
       "      <td>F</td>\n",
       "      <td>0-17</td>\n",
       "      <td>10</td>\n",
       "      <td>A</td>\n",
       "      <td>2</td>\n",
       "      <td>0</td>\n",
       "      <td>12</td>\n",
       "      <td>NaN</td>\n",
       "      <td>NaN</td>\n",
       "      <td>1422</td>\n",
       "    </tr>\n",
       "    <tr>\n",
       "      <th>3</th>\n",
       "      <td>1000001</td>\n",
       "      <td>P00085442</td>\n",
       "      <td>F</td>\n",
       "      <td>0-17</td>\n",
       "      <td>10</td>\n",
       "      <td>A</td>\n",
       "      <td>2</td>\n",
       "      <td>0</td>\n",
       "      <td>12</td>\n",
       "      <td>14.0</td>\n",
       "      <td>NaN</td>\n",
       "      <td>1057</td>\n",
       "    </tr>\n",
       "    <tr>\n",
       "      <th>4</th>\n",
       "      <td>1000002</td>\n",
       "      <td>P00285442</td>\n",
       "      <td>M</td>\n",
       "      <td>55+</td>\n",
       "      <td>16</td>\n",
       "      <td>C</td>\n",
       "      <td>4+</td>\n",
       "      <td>0</td>\n",
       "      <td>8</td>\n",
       "      <td>NaN</td>\n",
       "      <td>NaN</td>\n",
       "      <td>7969</td>\n",
       "    </tr>\n",
       "  </tbody>\n",
       "</table>\n",
       "</div>"
      ],
      "text/plain": [
       "   User_ID Product_ID Gender   Age  Occupation City_Category  \\\n",
       "0  1000001  P00069042      F  0-17          10             A   \n",
       "1  1000001  P00248942      F  0-17          10             A   \n",
       "2  1000001  P00087842      F  0-17          10             A   \n",
       "3  1000001  P00085442      F  0-17          10             A   \n",
       "4  1000002  P00285442      M   55+          16             C   \n",
       "\n",
       "  Stay_In_Current_City_Years  Marital_Status  Product_Category_1  \\\n",
       "0                          2               0                   3   \n",
       "1                          2               0                   1   \n",
       "2                          2               0                  12   \n",
       "3                          2               0                  12   \n",
       "4                         4+               0                   8   \n",
       "\n",
       "   Product_Category_2  Product_Category_3  Purchase  \n",
       "0                 NaN                 NaN      8370  \n",
       "1                 6.0                14.0     15200  \n",
       "2                 NaN                 NaN      1422  \n",
       "3                14.0                 NaN      1057  \n",
       "4                 NaN                 NaN      7969  "
      ]
     },
     "execution_count": 183,
     "metadata": {},
     "output_type": "execute_result"
    }
   ],
   "source": [
    "test_df=pd.read_csv('BlackFriday.csv')\n",
    "print(test_df.columns)\n",
    "test_df.head()"
   ]
  },
  {
   "cell_type": "code",
   "execution_count": 184,
   "metadata": {},
   "outputs": [
    {
     "data": {
      "text/plain": [
       "User_ID                         int64\n",
       "Product_ID                     object\n",
       "Gender                         object\n",
       "Age                            object\n",
       "Occupation                      int64\n",
       "City_Category                  object\n",
       "Stay_In_Current_City_Years     object\n",
       "Marital_Status                  int64\n",
       "Product_Category_1              int64\n",
       "Product_Category_2            float64\n",
       "Product_Category_3            float64\n",
       "Purchase                        int64\n",
       "dtype: object"
      ]
     },
     "execution_count": 184,
     "metadata": {},
     "output_type": "execute_result"
    }
   ],
   "source": [
    "\n",
    "test_df.dtypes"
   ]
  },
  {
   "cell_type": "markdown",
   "metadata": {},
   "source": [
    "### Checking the count of each rows is they are same"
   ]
  },
  {
   "cell_type": "code",
   "execution_count": 185,
   "metadata": {},
   "outputs": [
    {
     "data": {
      "text/plain": [
       "User_ID                       537577\n",
       "Product_ID                    537577\n",
       "Gender                        537577\n",
       "Age                           537577\n",
       "Occupation                    537577\n",
       "City_Category                 537577\n",
       "Stay_In_Current_City_Years    537577\n",
       "Marital_Status                537577\n",
       "Product_Category_1            537577\n",
       "Product_Category_2            370591\n",
       "Product_Category_3            164278\n",
       "Purchase                      537577\n",
       "dtype: int64"
      ]
     },
     "execution_count": 185,
     "metadata": {},
     "output_type": "execute_result"
    }
   ],
   "source": [
    "test_df.count()"
   ]
  },
  {
   "cell_type": "code",
   "execution_count": 186,
   "metadata": {},
   "outputs": [
    {
     "data": {
      "text/html": [
       "<div>\n",
       "<style scoped>\n",
       "    .dataframe tbody tr th:only-of-type {\n",
       "        vertical-align: middle;\n",
       "    }\n",
       "\n",
       "    .dataframe tbody tr th {\n",
       "        vertical-align: top;\n",
       "    }\n",
       "\n",
       "    .dataframe thead th {\n",
       "        text-align: right;\n",
       "    }\n",
       "</style>\n",
       "<table border=\"1\" class=\"dataframe\">\n",
       "  <thead>\n",
       "    <tr style=\"text-align: right;\">\n",
       "      <th></th>\n",
       "      <th>User_ID</th>\n",
       "      <th>Occupation</th>\n",
       "      <th>Marital_Status</th>\n",
       "      <th>Product_Category_1</th>\n",
       "      <th>Product_Category_2</th>\n",
       "      <th>Product_Category_3</th>\n",
       "      <th>Purchase</th>\n",
       "    </tr>\n",
       "  </thead>\n",
       "  <tbody>\n",
       "    <tr>\n",
       "      <th>count</th>\n",
       "      <td>5.375770e+05</td>\n",
       "      <td>537577.00000</td>\n",
       "      <td>537577.000000</td>\n",
       "      <td>537577.000000</td>\n",
       "      <td>370591.000000</td>\n",
       "      <td>164278.000000</td>\n",
       "      <td>537577.000000</td>\n",
       "    </tr>\n",
       "    <tr>\n",
       "      <th>mean</th>\n",
       "      <td>1.002992e+06</td>\n",
       "      <td>8.08271</td>\n",
       "      <td>0.408797</td>\n",
       "      <td>5.295546</td>\n",
       "      <td>9.842144</td>\n",
       "      <td>12.669840</td>\n",
       "      <td>9333.859853</td>\n",
       "    </tr>\n",
       "    <tr>\n",
       "      <th>std</th>\n",
       "      <td>1.714393e+03</td>\n",
       "      <td>6.52412</td>\n",
       "      <td>0.491612</td>\n",
       "      <td>3.750701</td>\n",
       "      <td>5.087259</td>\n",
       "      <td>4.124341</td>\n",
       "      <td>4981.022133</td>\n",
       "    </tr>\n",
       "    <tr>\n",
       "      <th>min</th>\n",
       "      <td>1.000001e+06</td>\n",
       "      <td>0.00000</td>\n",
       "      <td>0.000000</td>\n",
       "      <td>1.000000</td>\n",
       "      <td>2.000000</td>\n",
       "      <td>3.000000</td>\n",
       "      <td>185.000000</td>\n",
       "    </tr>\n",
       "    <tr>\n",
       "      <th>25%</th>\n",
       "      <td>1.001495e+06</td>\n",
       "      <td>2.00000</td>\n",
       "      <td>0.000000</td>\n",
       "      <td>1.000000</td>\n",
       "      <td>5.000000</td>\n",
       "      <td>9.000000</td>\n",
       "      <td>5866.000000</td>\n",
       "    </tr>\n",
       "    <tr>\n",
       "      <th>50%</th>\n",
       "      <td>1.003031e+06</td>\n",
       "      <td>7.00000</td>\n",
       "      <td>0.000000</td>\n",
       "      <td>5.000000</td>\n",
       "      <td>9.000000</td>\n",
       "      <td>14.000000</td>\n",
       "      <td>8062.000000</td>\n",
       "    </tr>\n",
       "    <tr>\n",
       "      <th>75%</th>\n",
       "      <td>1.004417e+06</td>\n",
       "      <td>14.00000</td>\n",
       "      <td>1.000000</td>\n",
       "      <td>8.000000</td>\n",
       "      <td>15.000000</td>\n",
       "      <td>16.000000</td>\n",
       "      <td>12073.000000</td>\n",
       "    </tr>\n",
       "    <tr>\n",
       "      <th>max</th>\n",
       "      <td>1.006040e+06</td>\n",
       "      <td>20.00000</td>\n",
       "      <td>1.000000</td>\n",
       "      <td>18.000000</td>\n",
       "      <td>18.000000</td>\n",
       "      <td>18.000000</td>\n",
       "      <td>23961.000000</td>\n",
       "    </tr>\n",
       "  </tbody>\n",
       "</table>\n",
       "</div>"
      ],
      "text/plain": [
       "            User_ID    Occupation  Marital_Status  Product_Category_1  \\\n",
       "count  5.375770e+05  537577.00000   537577.000000       537577.000000   \n",
       "mean   1.002992e+06       8.08271        0.408797            5.295546   \n",
       "std    1.714393e+03       6.52412        0.491612            3.750701   \n",
       "min    1.000001e+06       0.00000        0.000000            1.000000   \n",
       "25%    1.001495e+06       2.00000        0.000000            1.000000   \n",
       "50%    1.003031e+06       7.00000        0.000000            5.000000   \n",
       "75%    1.004417e+06      14.00000        1.000000            8.000000   \n",
       "max    1.006040e+06      20.00000        1.000000           18.000000   \n",
       "\n",
       "       Product_Category_2  Product_Category_3       Purchase  \n",
       "count       370591.000000       164278.000000  537577.000000  \n",
       "mean             9.842144           12.669840    9333.859853  \n",
       "std              5.087259            4.124341    4981.022133  \n",
       "min              2.000000            3.000000     185.000000  \n",
       "25%              5.000000            9.000000    5866.000000  \n",
       "50%              9.000000           14.000000    8062.000000  \n",
       "75%             15.000000           16.000000   12073.000000  \n",
       "max             18.000000           18.000000   23961.000000  "
      ]
     },
     "execution_count": 186,
     "metadata": {},
     "output_type": "execute_result"
    }
   ],
   "source": [
    "test_df.describe()"
   ]
  },
  {
   "cell_type": "markdown",
   "metadata": {},
   "source": [
    "It can be seen that the max purchase is very far away from mean. Let us see if any purchase is contributing to this max value, so that outliers can be removed if there is any\n",
    "\n",
    "### Analysis to see the abrupt high value of max\n",
    "+ Will use box-plot to see the outliers\n",
    "+ My x-axis will be Purchase column\n",
    "\n"
   ]
  },
  {
   "cell_type": "code",
   "execution_count": 187,
   "metadata": {},
   "outputs": [
    {
     "data": {
      "text/plain": [
       "Text(0.5,1,'Box Plot for Purchase Column')"
      ]
     },
     "execution_count": 187,
     "metadata": {},
     "output_type": "execute_result"
    },
    {
     "data": {
      "image/png": "[encoded data removed]",
      "text/plain": [
       "<matplotlib.figure.Figure at 0x29251ed36a0>"
      ]
     },
     "metadata": {},
     "output_type": "display_data"
    }
   ],
   "source": [
    "plt.boxplot(x=test_df['Purchase'], notch=False, sym='+', vert=True, whis=1.5,\n",
    "        positions=None, widths=None, patch_artist=False,\n",
    "        bootstrap=None, usermedians=None, conf_intervals=None, showfliers=True)\n",
    "plt.title('Box Plot for Purchase Column')"
   ]
  },
  {
   "cell_type": "markdown",
   "metadata": {},
   "source": [
    "It can be seen that beyond a purchase value of 21000 is an outlier for me. Let us first see, what is the count of such observations with purchase value >21000 and if we can ignore it or not"
   ]
  },
  {
   "cell_type": "code",
   "execution_count": 188,
   "metadata": {},
   "outputs": [
    {
     "data": {
      "text/plain": [
       "User_ID                       3491\n",
       "Product_ID                    3491\n",
       "Gender                        3491\n",
       "Age                           3491\n",
       "Occupation                    3491\n",
       "City_Category                 3491\n",
       "Stay_In_Current_City_Years    3491\n",
       "Marital_Status                3491\n",
       "Product_Category_1            3491\n",
       "Product_Category_2            2577\n",
       "Product_Category_3             641\n",
       "Purchase                      3491\n",
       "dtype: int64"
      ]
     },
     "execution_count": 188,
     "metadata": {},
     "output_type": "execute_result"
    }
   ],
   "source": [
    "test_df[test_df.Purchase > 21000].count()"
   ]
  },
  {
   "cell_type": "markdown",
   "metadata": {},
   "source": [
    "## Data cleaning\n",
    "\n",
    "+ Out of 550,000 rows,3491 rows containing outliers are deleted to do the analysis and move forward. \n",
    "+ Also, the count of product categories are not matching with the total observations. These columns are deleted for data analysis ahead\n"
   ]
  },
  {
   "cell_type": "code",
   "execution_count": 189,
   "metadata": {},
   "outputs": [
    {
     "data": {
      "text/html": [
       "<div>\n",
       "<style scoped>\n",
       "    .dataframe tbody tr th:only-of-type {\n",
       "        vertical-align: middle;\n",
       "    }\n",
       "\n",
       "    .dataframe tbody tr th {\n",
       "        vertical-align: top;\n",
       "    }\n",
       "\n",
       "    .dataframe thead th {\n",
       "        text-align: right;\n",
       "    }\n",
       "</style>\n",
       "<table border=\"1\" class=\"dataframe\">\n",
       "  <thead>\n",
       "    <tr style=\"text-align: right;\">\n",
       "      <th></th>\n",
       "      <th>User_ID</th>\n",
       "      <th>Product_ID</th>\n",
       "      <th>Gender</th>\n",
       "      <th>Age</th>\n",
       "      <th>Occupation</th>\n",
       "      <th>City_Category</th>\n",
       "      <th>Stay_In_Current_City_Years</th>\n",
       "      <th>Marital_Status</th>\n",
       "      <th>Purchase</th>\n",
       "    </tr>\n",
       "  </thead>\n",
       "  <tbody>\n",
       "    <tr>\n",
       "      <th>0</th>\n",
       "      <td>1000001</td>\n",
       "      <td>P00069042</td>\n",
       "      <td>F</td>\n",
       "      <td>0-17</td>\n",
       "      <td>10</td>\n",
       "      <td>A</td>\n",
       "      <td>2</td>\n",
       "      <td>0</td>\n",
       "      <td>8370</td>\n",
       "    </tr>\n",
       "    <tr>\n",
       "      <th>1</th>\n",
       "      <td>1000001</td>\n",
       "      <td>P00248942</td>\n",
       "      <td>F</td>\n",
       "      <td>0-17</td>\n",
       "      <td>10</td>\n",
       "      <td>A</td>\n",
       "      <td>2</td>\n",
       "      <td>0</td>\n",
       "      <td>15200</td>\n",
       "    </tr>\n",
       "    <tr>\n",
       "      <th>2</th>\n",
       "      <td>1000001</td>\n",
       "      <td>P00087842</td>\n",
       "      <td>F</td>\n",
       "      <td>0-17</td>\n",
       "      <td>10</td>\n",
       "      <td>A</td>\n",
       "      <td>2</td>\n",
       "      <td>0</td>\n",
       "      <td>1422</td>\n",
       "    </tr>\n",
       "    <tr>\n",
       "      <th>3</th>\n",
       "      <td>1000001</td>\n",
       "      <td>P00085442</td>\n",
       "      <td>F</td>\n",
       "      <td>0-17</td>\n",
       "      <td>10</td>\n",
       "      <td>A</td>\n",
       "      <td>2</td>\n",
       "      <td>0</td>\n",
       "      <td>1057</td>\n",
       "    </tr>\n",
       "    <tr>\n",
       "      <th>4</th>\n",
       "      <td>1000002</td>\n",
       "      <td>P00285442</td>\n",
       "      <td>M</td>\n",
       "      <td>55+</td>\n",
       "      <td>16</td>\n",
       "      <td>C</td>\n",
       "      <td>4+</td>\n",
       "      <td>0</td>\n",
       "      <td>7969</td>\n",
       "    </tr>\n",
       "  </tbody>\n",
       "</table>\n",
       "</div>"
      ],
      "text/plain": [
       "   User_ID Product_ID Gender   Age  Occupation City_Category  \\\n",
       "0  1000001  P00069042      F  0-17          10             A   \n",
       "1  1000001  P00248942      F  0-17          10             A   \n",
       "2  1000001  P00087842      F  0-17          10             A   \n",
       "3  1000001  P00085442      F  0-17          10             A   \n",
       "4  1000002  P00285442      M   55+          16             C   \n",
       "\n",
       "  Stay_In_Current_City_Years  Marital_Status  Purchase  \n",
       "0                          2               0      8370  \n",
       "1                          2               0     15200  \n",
       "2                          2               0      1422  \n",
       "3                          2               0      1057  \n",
       "4                         4+               0      7969  "
      ]
     },
     "execution_count": 189,
     "metadata": {},
     "output_type": "execute_result"
    }
   ],
   "source": [
    "#Dropping the columns\n",
    "test_df=pd.read_csv('BlackFriday.csv')\n",
    "columns=['Product_Category_1',\n",
    "       'Product_Category_2', 'Product_Category_3']\n",
    "test_df.drop(columns, inplace=True, axis=1)\n",
    "test_df.head()"
   ]
  },
  {
   "cell_type": "code",
   "execution_count": 190,
   "metadata": {},
   "outputs": [
    {
     "data": {
      "text/html": [
       "<div>\n",
       "<style scoped>\n",
       "    .dataframe tbody tr th:only-of-type {\n",
       "        vertical-align: middle;\n",
       "    }\n",
       "\n",
       "    .dataframe tbody tr th {\n",
       "        vertical-align: top;\n",
       "    }\n",
       "\n",
       "    .dataframe thead th {\n",
       "        text-align: right;\n",
       "    }\n",
       "</style>\n",
       "<table border=\"1\" class=\"dataframe\">\n",
       "  <thead>\n",
       "    <tr style=\"text-align: right;\">\n",
       "      <th></th>\n",
       "      <th>User_ID</th>\n",
       "      <th>Product_ID</th>\n",
       "      <th>Gender</th>\n",
       "      <th>Age</th>\n",
       "      <th>Occupation</th>\n",
       "      <th>City_Category</th>\n",
       "      <th>Stay_In_Current_City_Years</th>\n",
       "      <th>Marital_Status</th>\n",
       "      <th>Purchase</th>\n",
       "    </tr>\n",
       "  </thead>\n",
       "  <tbody>\n",
       "    <tr>\n",
       "      <th>0</th>\n",
       "      <td>1000001</td>\n",
       "      <td>P00069042</td>\n",
       "      <td>F</td>\n",
       "      <td>0-17</td>\n",
       "      <td>10</td>\n",
       "      <td>A</td>\n",
       "      <td>2</td>\n",
       "      <td>0</td>\n",
       "      <td>8370</td>\n",
       "    </tr>\n",
       "    <tr>\n",
       "      <th>1</th>\n",
       "      <td>1000001</td>\n",
       "      <td>P00248942</td>\n",
       "      <td>F</td>\n",
       "      <td>0-17</td>\n",
       "      <td>10</td>\n",
       "      <td>A</td>\n",
       "      <td>2</td>\n",
       "      <td>0</td>\n",
       "      <td>15200</td>\n",
       "    </tr>\n",
       "    <tr>\n",
       "      <th>2</th>\n",
       "      <td>1000001</td>\n",
       "      <td>P00087842</td>\n",
       "      <td>F</td>\n",
       "      <td>0-17</td>\n",
       "      <td>10</td>\n",
       "      <td>A</td>\n",
       "      <td>2</td>\n",
       "      <td>0</td>\n",
       "      <td>1422</td>\n",
       "    </tr>\n",
       "    <tr>\n",
       "      <th>3</th>\n",
       "      <td>1000001</td>\n",
       "      <td>P00085442</td>\n",
       "      <td>F</td>\n",
       "      <td>0-17</td>\n",
       "      <td>10</td>\n",
       "      <td>A</td>\n",
       "      <td>2</td>\n",
       "      <td>0</td>\n",
       "      <td>1057</td>\n",
       "    </tr>\n",
       "    <tr>\n",
       "      <th>4</th>\n",
       "      <td>1000002</td>\n",
       "      <td>P00285442</td>\n",
       "      <td>M</td>\n",
       "      <td>55+</td>\n",
       "      <td>16</td>\n",
       "      <td>C</td>\n",
       "      <td>4+</td>\n",
       "      <td>0</td>\n",
       "      <td>7969</td>\n",
       "    </tr>\n",
       "  </tbody>\n",
       "</table>\n",
       "</div>"
      ],
      "text/plain": [
       "   User_ID Product_ID Gender   Age  Occupation City_Category  \\\n",
       "0  1000001  P00069042      F  0-17          10             A   \n",
       "1  1000001  P00248942      F  0-17          10             A   \n",
       "2  1000001  P00087842      F  0-17          10             A   \n",
       "3  1000001  P00085442      F  0-17          10             A   \n",
       "4  1000002  P00285442      M   55+          16             C   \n",
       "\n",
       "  Stay_In_Current_City_Years  Marital_Status  Purchase  \n",
       "0                          2               0      8370  \n",
       "1                          2               0     15200  \n",
       "2                          2               0      1422  \n",
       "3                          2               0      1057  \n",
       "4                         4+               0      7969  "
      ]
     },
     "execution_count": 190,
     "metadata": {},
     "output_type": "execute_result"
    }
   ],
   "source": [
    "#filtering the rows with purchase rows more than 21000\n",
    "test_df=test_df[test_df.Purchase < 21000]\n",
    "test_df.head()"
   ]
  },
  {
   "cell_type": "markdown",
   "metadata": {},
   "source": [
    "\n",
    "### Graphical representation of Gender wise purchase\n",
    "+ grouping by Gender and then summing up the total purchase"
   ]
  },
  {
   "cell_type": "code",
   "execution_count": 191,
   "metadata": {},
   "outputs": [
    {
     "data": {
      "image/png": "[encoded data removed]",
      "text/plain": [
       "<matplotlib.figure.Figure at 0x29231d598d0>"
      ]
     },
     "metadata": {},
     "output_type": "display_data"
    }
   ],
   "source": [
    "test_df=test_df[test_df.Purchase < 21000]\n",
    "#grouping by gender to see the purchase by gender\n",
    "purchase_bygender=test_df.groupby(['Gender']).sum()['Purchase']\n",
    "\n",
    "#created a new column\n",
    "df_purchase_bygender=pd.DataFrame({\"Total Purchase\":purchase_bygender})\n",
    "\n",
    "#changing the Gender index to columns for bar chart analysis\n",
    "df_purchase_bygender=df_purchase_bygender.reset_index(level=['Gender'])\n",
    "x_axis=df_purchase_bygender['Gender']\n",
    "y_axis=df_purchase_bygender['Total Purchase']\n",
    "plt.bar(x_axis,y_axis, color=['maroon','blue'])\n",
    "plt.title(\"Total Purchase by each Gender\")\n",
    "x=\"Gender\"\n",
    "plt.xlabel(x)\n",
    "y=\"Total purchase in Billions\"\n",
    "y=plt.ylabel(y)"
   ]
  },
  {
   "cell_type": "markdown",
   "metadata": {},
   "source": [
    "Oops! Total Purchase by Males is more than Females.\n",
    "Let us see the count of Male and Female and their average spent.\n",
    "\n",
    "\n",
    "### Plotting Total count of each gender"
   ]
  },
  {
   "cell_type": "code",
   "execution_count": 192,
   "metadata": {},
   "outputs": [
    {
     "data": {
      "image/png": "[encoded data removed]",
      "text/plain": [
       "<matplotlib.figure.Figure at 0x29251ec7518>"
      ]
     },
     "metadata": {},
     "output_type": "display_data"
    }
   ],
   "source": [
    "#Analysis to see the total count for each gender\n",
    "#using groupby plots\n",
    "gender_count=test_df['Gender'].value_counts()\n",
    "gender_count.plot(kind='bar',color=['blue','maroon'])\n",
    "\n",
    "#using tick locations for rotating the y-label\n",
    "tick_locations=[value for value in np.arange(2)]\n",
    "plt.xticks(tick_locations, rotation=0)\n",
    "plt.title(\"Total Count of each Gender\")\n",
    "x=\"Gender\"\n",
    "plt.xlabel(x)\n",
    "y=\"Total count of people\"\n",
    "y=plt.ylabel(y)"
   ]
  },
  {
   "cell_type": "markdown",
   "metadata": {},
   "source": [
    "It can be seen that both the total count of males and total purchase by males is high. An average of purchase amount for each gender will give some clarity\n",
    "\n",
    "### Plotting the average amount spent by each gender"
   ]
  },
  {
   "cell_type": "code",
   "execution_count": 193,
   "metadata": {},
   "outputs": [
    {
     "name": "stdout",
     "output_type": "stream",
     "text": [
      "Gender\n",
      "F    8730.847632\n",
      "M    9414.413389\n",
      "Name: Purchase, dtype: float64\n"
     ]
    },
    {
     "data": {
      "image/png": "[encoded data removed]",
      "text/plain": [
       "<matplotlib.figure.Figure at 0x2926066dcc0>"
      ]
     },
     "metadata": {},
     "output_type": "display_data"
    }
   ],
   "source": [
    "#Average spend by gender\n",
    "df_avg_bygender=test_df.groupby(['Gender']).mean()['Purchase']\n",
    "# plt.figure(figsize=(5, 5))\n",
    "df_avg_bygender.plot(kind=\"bar\", color=[\"maroon\",'blue'])\n",
    "tick_locations=[value for value in np.arange(2)]\n",
    "plt.xticks(tick_locations, rotation=0)\n",
    "\n",
    "plt.title(\"Average spent by each gender\")\n",
    "x=\"Gender\"\n",
    "plt.xlabel(x)\n",
    "y=\"Amount spent on average in dollars\"\n",
    "y=plt.ylabel(y)\n",
    "print(df_avg_bygender.head())"
   ]
  },
  {
   "cell_type": "markdown",
   "metadata": {},
   "source": [
    "Average Purchase by Male is more just by a 1000$ ! "
   ]
  },
  {
   "cell_type": "markdown",
   "metadata": {},
   "source": [
    "## Analysis of Total Purchase by males and females for each age group\n",
    "+ filtered the dataset for each gender and created new dataframes\n",
    "+ grouped by age group and calculated the total purchase for each age group\n",
    "+ Merged the two datasets with an outer join on 'Age'\n",
    "\n"
   ]
  },
  {
   "cell_type": "code",
   "execution_count": 194,
   "metadata": {},
   "outputs": [
    {
     "data": {
      "text/html": [
       "<div>\n",
       "<style scoped>\n",
       "    .dataframe tbody tr th:only-of-type {\n",
       "        vertical-align: middle;\n",
       "    }\n",
       "\n",
       "    .dataframe tbody tr th {\n",
       "        vertical-align: top;\n",
       "    }\n",
       "\n",
       "    .dataframe thead th {\n",
       "        text-align: right;\n",
       "    }\n",
       "</style>\n",
       "<table border=\"1\" class=\"dataframe\">\n",
       "  <thead>\n",
       "    <tr style=\"text-align: right;\">\n",
       "      <th></th>\n",
       "      <th>Age</th>\n",
       "      <th>Total Purchase by male</th>\n",
       "      <th>Total Purchase by female</th>\n",
       "    </tr>\n",
       "  </thead>\n",
       "  <tbody>\n",
       "    <tr>\n",
       "      <th>0</th>\n",
       "      <td>0-17</td>\n",
       "      <td>89348550</td>\n",
       "      <td>41253119</td>\n",
       "    </tr>\n",
       "    <tr>\n",
       "      <th>1</th>\n",
       "      <td>18-25</td>\n",
       "      <td>691003746</td>\n",
       "      <td>200611778</td>\n",
       "    </tr>\n",
       "    <tr>\n",
       "      <th>2</th>\n",
       "      <td>26-35</td>\n",
       "      <td>1543748394</td>\n",
       "      <td>428267701</td>\n",
       "    </tr>\n",
       "    <tr>\n",
       "      <th>3</th>\n",
       "      <td>36-45</td>\n",
       "      <td>757335213</td>\n",
       "      <td>235444900</td>\n",
       "    </tr>\n",
       "    <tr>\n",
       "      <th>4</th>\n",
       "      <td>46-50</td>\n",
       "      <td>292944742</td>\n",
       "      <td>112865784</td>\n",
       "    </tr>\n",
       "    <tr>\n",
       "      <th>5</th>\n",
       "      <td>51-55</td>\n",
       "      <td>266931004</td>\n",
       "      <td>85773937</td>\n",
       "    </tr>\n",
       "    <tr>\n",
       "      <th>6</th>\n",
       "      <td>55+</td>\n",
       "      <td>149147713</td>\n",
       "      <td>43522549</td>\n",
       "    </tr>\n",
       "  </tbody>\n",
       "</table>\n",
       "</div>"
      ],
      "text/plain": [
       "     Age  Total Purchase by male  Total Purchase by female\n",
       "0   0-17                89348550                  41253119\n",
       "1  18-25               691003746                 200611778\n",
       "2  26-35              1543748394                 428267701\n",
       "3  36-45               757335213                 235444900\n",
       "4  46-50               292944742                 112865784\n",
       "5  51-55               266931004                  85773937\n",
       "6    55+               149147713                  43522549"
      ]
     },
     "execution_count": 194,
     "metadata": {},
     "output_type": "execute_result"
    }
   ],
   "source": [
    "#filtering out only the male data for analysis\n",
    "df_male=test_df.loc[test_df[\"Gender\"]=='M',:]\n",
    "df_female=test_df.loc[test_df[\"Gender\"]=='F',:]\n",
    "\n",
    "#grouping by male, age and their respective purchase\n",
    "df_male2=df_male.groupby(['Age']).sum()['Purchase']\n",
    "df_female2=df_female.groupby(['Age']).sum()['Purchase']\n",
    "\n",
    "#changing into dataframe\n",
    "df_male3=pd.DataFrame({\"Total Purchase by male\":df_male2})\n",
    "df_female3=pd.DataFrame({\"Total Purchase by female\":df_female2})\n",
    "\n",
    "#inplace is overwriting the new column rather than saving in a new column/csv\n",
    "# df_male3=df_male2.rename(columns={\"Purchase\":\"Total purchase by male\"},inplace=True)\n",
    "# df_female3=df_female2.rename(columns={\"Purchase\":\"Total purchase by female\"},inplace=True)\n",
    "\n",
    "#changing the group by index to columns , so that merge join works\n",
    "df_male4=df_male3.reset_index(level=['Age'])\n",
    "df_female4=df_female3.reset_index(level=['Age'])\n",
    "\n",
    "df_merged_purchase_byage_gender = pd.merge(df_male4, df_female4, on=\"Age\", how=\"outer\")\n",
    "df_merged_purchase_byage_gender"
   ]
  },
  {
   "cell_type": "code",
   "execution_count": 195,
   "metadata": {},
   "outputs": [
    {
     "name": "stderr",
     "output_type": "stream",
     "text": [
      "C:\\Users\\karis\\Anaconda3\\lib\\site-packages\\pandas\\plotting\\_core.py:1716: UserWarning: Pandas doesn't allow columns to be created via a new attribute name - see https://pandas.pydata.org/pandas-docs/stable/indexing.html#attribute-access\n",
      "  series.name = label\n"
     ]
    },
    {
     "data": {
      "image/png": "[encoded data removed]",
      "text/plain": [
       "<matplotlib.figure.Figure at 0x292608e66a0>"
      ]
     },
     "metadata": {},
     "output_type": "display_data"
    }
   ],
   "source": [
    "df_merged_purchase_byage_gender.plot(x=['Age'],y=['Total Purchase by male','Total Purchase by female'], kind='bar')\n",
    "plt.title(\"Total purchase by each Gender\")\n",
    "x=\"Age\"\n",
    "plt.xlabel(x)\n",
    "y=\"Total purchase in billion dollars \"\n",
    "y=plt.ylabel(y)"
   ]
  },
  {
   "cell_type": "markdown",
   "metadata": {},
   "source": [
    "Even after removing outliers, Total purchase by males is still found to be higher for each age group, highest being the age group of 26-35"
   ]
  },
  {
   "cell_type": "markdown",
   "metadata": {},
   "source": [
    "## The total purchase by city category"
   ]
  },
  {
   "cell_type": "code",
   "execution_count": 196,
   "metadata": {},
   "outputs": [
    {
     "name": "stdout",
     "output_type": "stream",
     "text": [
      "City_Category\n",
      "A    1274892803\n",
      "B    2051964348\n",
      "C    1611341979\n",
      "Name: Purchase, dtype: int64\n"
     ]
    },
    {
     "data": {
      "image/png": "[encoded data removed]",
      "text/plain": [
       "<matplotlib.figure.Figure at 0x29260b29908>"
      ]
     },
     "metadata": {},
     "output_type": "display_data"
    }
   ],
   "source": [
    "df_groupby_citycategory=test_df.groupby('City_Category').sum()['Purchase']\n",
    "print(df_groupby_citycategory.head())\n",
    "\n",
    "citycategory_piechart=df_groupby_citycategory.plot(kind='pie', figsize=(5,5))\n",
    "plt.title(\"Total Purchase by city category\")\n",
    "plt.show()\n"
   ]
  },
  {
   "cell_type": "markdown",
   "metadata": {},
   "source": [
    "Total Purchase remains almost same for all the city categories. However, City Category B has a higher total purchase compared to other city categories\n",
    "\n",
    "From Business perspective, Category B city can be given more importance to increase sales\n",
    "\n",
    "### The total purchase by stay in current city in years\n",
    "\n"
   ]
  },
  {
   "cell_type": "code",
   "execution_count": 197,
   "metadata": {},
   "outputs": [
    {
     "name": "stdout",
     "output_type": "stream",
     "text": [
      "Stay_In_Current_City_Years\n",
      "0      661983634\n",
      "1     1734223626\n",
      "2      920901968\n",
      "3      858474484\n",
      "4+     762615418\n",
      "Name: Purchase, dtype: int64\n"
     ]
    },
    {
     "data": {
      "image/png": "[encoded data removed]",
      "text/plain": [
       "<matplotlib.figure.Figure at 0x2926074c4e0>"
      ]
     },
     "metadata": {},
     "output_type": "display_data"
    }
   ],
   "source": [
    "# Stay_In_Current_City_Years\n",
    "\n",
    "df_groupby_currentcity=test_df.groupby('Stay_In_Current_City_Years').sum()['Purchase']\n",
    "print(df_groupby_currentcity.head())\n",
    "\n",
    "df_groupby_currentcity.plot(kind='pie', figsize=(5,5))\n",
    "plt.title(\"Total Purchase by number of years in a city\")\n",
    "plt.show()\n"
   ]
  },
  {
   "cell_type": "markdown",
   "metadata": {},
   "source": [
    "People with 1 year older is may be settling down and buying more goods!\n",
    "\n",
    "### The total purchase by marital status"
   ]
  },
  {
   "cell_type": "code",
   "execution_count": 198,
   "metadata": {},
   "outputs": [
    {
     "name": "stdout",
     "output_type": "stream",
     "text": [
      "Marital_Status\n",
      "0    2922000452\n",
      "1    2016198678\n",
      "Name: Purchase, dtype: int64\n"
     ]
    },
    {
     "data": {
      "image/png": "[encoded data removed]",
      "text/plain": [
       "<matplotlib.figure.Figure at 0x29260dc7d30>"
      ]
     },
     "metadata": {},
     "output_type": "display_data"
    }
   ],
   "source": [
    "df_groupby_marital=test_df.groupby('Marital_Status').sum()['Purchase']\n",
    "print(df_groupby_marital.head())\n",
    "\n",
    "df_groupby_marital.plot(kind='pie', figsize=(5,5))\n",
    "plt.title(\"Total Purchase by marital status\")\n",
    "plt.show()"
   ]
  },
  {
   "cell_type": "markdown",
   "metadata": {},
   "source": [
    "## Predictive Analytics\n",
    "\n",
    "### 1st Analysis\n",
    "\n",
    "+ The independent variable that has been taken is a categorical data-Age-group\n",
    "+ The Age group is converted to numeric by splitting and taking mean\n",
    "+ Used linear regression analysis to predict sales based on mean of the age for a particular product_ID\n",
    "\n",
    "### Linear Regression \n",
    "\n",
    "A regression line is simply calculating a line that best fits the data. This is typically done through the least squares method where the line is chosen to have the smallest overall distance to the points.\n",
    "\n",
    "$y = \\theta_0 + \\theta_1 x$\n",
    "\n",
    "* $y$ is the output response\n",
    "* $x$ is the input feature\n",
    "* $\\theta_0$ is the y-axis intercept\n",
    "* $\\theta_1$ is weight coefficient (slope)\n",
    "### Sklearn\n",
    "\n",
    "The Sklearn library provides us with a Linear Regression model that will fit a line to our data. Sklearn follows a consistent API where we define a model object, fit the model to the data, and then make predictions with the model.\n",
    "\n",
    "### Handling of different types of categorical variables can be found [here](https://www.kaggle.com/mehdidag/black-friday#BlackFriday.csv)\n",
    "\n"
   ]
  },
  {
   "cell_type": "code",
   "execution_count": 199,
   "metadata": {},
   "outputs": [
    {
     "data": {
      "text/html": [
       "<div>\n",
       "<style scoped>\n",
       "    .dataframe tbody tr th:only-of-type {\n",
       "        vertical-align: middle;\n",
       "    }\n",
       "\n",
       "    .dataframe tbody tr th {\n",
       "        vertical-align: top;\n",
       "    }\n",
       "\n",
       "    .dataframe thead th {\n",
       "        text-align: right;\n",
       "    }\n",
       "</style>\n",
       "<table border=\"1\" class=\"dataframe\">\n",
       "  <thead>\n",
       "    <tr style=\"text-align: right;\">\n",
       "      <th></th>\n",
       "      <th>User_ID</th>\n",
       "      <th>Product_ID</th>\n",
       "      <th>Gender</th>\n",
       "      <th>Age</th>\n",
       "      <th>Occupation</th>\n",
       "      <th>City_Category</th>\n",
       "      <th>Stay_In_Current_City_Years</th>\n",
       "      <th>Marital_Status</th>\n",
       "      <th>Purchase</th>\n",
       "      <th>start</th>\n",
       "      <th>end</th>\n",
       "      <th>age_mean</th>\n",
       "    </tr>\n",
       "  </thead>\n",
       "  <tbody>\n",
       "    <tr>\n",
       "      <th>0</th>\n",
       "      <td>1000001</td>\n",
       "      <td>P00069042</td>\n",
       "      <td>F</td>\n",
       "      <td>0-17</td>\n",
       "      <td>10</td>\n",
       "      <td>A</td>\n",
       "      <td>2</td>\n",
       "      <td>0</td>\n",
       "      <td>8370</td>\n",
       "      <td>0</td>\n",
       "      <td>17</td>\n",
       "      <td>8.5</td>\n",
       "    </tr>\n",
       "    <tr>\n",
       "      <th>1</th>\n",
       "      <td>1000001</td>\n",
       "      <td>P00248942</td>\n",
       "      <td>F</td>\n",
       "      <td>0-17</td>\n",
       "      <td>10</td>\n",
       "      <td>A</td>\n",
       "      <td>2</td>\n",
       "      <td>0</td>\n",
       "      <td>15200</td>\n",
       "      <td>0</td>\n",
       "      <td>17</td>\n",
       "      <td>8.5</td>\n",
       "    </tr>\n",
       "    <tr>\n",
       "      <th>2</th>\n",
       "      <td>1000001</td>\n",
       "      <td>P00087842</td>\n",
       "      <td>F</td>\n",
       "      <td>0-17</td>\n",
       "      <td>10</td>\n",
       "      <td>A</td>\n",
       "      <td>2</td>\n",
       "      <td>0</td>\n",
       "      <td>1422</td>\n",
       "      <td>0</td>\n",
       "      <td>17</td>\n",
       "      <td>8.5</td>\n",
       "    </tr>\n",
       "    <tr>\n",
       "      <th>3</th>\n",
       "      <td>1000001</td>\n",
       "      <td>P00085442</td>\n",
       "      <td>F</td>\n",
       "      <td>0-17</td>\n",
       "      <td>10</td>\n",
       "      <td>A</td>\n",
       "      <td>2</td>\n",
       "      <td>0</td>\n",
       "      <td>1057</td>\n",
       "      <td>0</td>\n",
       "      <td>17</td>\n",
       "      <td>8.5</td>\n",
       "    </tr>\n",
       "    <tr>\n",
       "      <th>4</th>\n",
       "      <td>1000002</td>\n",
       "      <td>P00285442</td>\n",
       "      <td>M</td>\n",
       "      <td>55-100</td>\n",
       "      <td>16</td>\n",
       "      <td>C</td>\n",
       "      <td>4+</td>\n",
       "      <td>0</td>\n",
       "      <td>7969</td>\n",
       "      <td>55</td>\n",
       "      <td>100</td>\n",
       "      <td>77.5</td>\n",
       "    </tr>\n",
       "  </tbody>\n",
       "</table>\n",
       "</div>"
      ],
      "text/plain": [
       "   User_ID Product_ID Gender     Age  Occupation City_Category  \\\n",
       "0  1000001  P00069042      F    0-17          10             A   \n",
       "1  1000001  P00248942      F    0-17          10             A   \n",
       "2  1000001  P00087842      F    0-17          10             A   \n",
       "3  1000001  P00085442      F    0-17          10             A   \n",
       "4  1000002  P00285442      M  55-100          16             C   \n",
       "\n",
       "  Stay_In_Current_City_Years  Marital_Status  Purchase start  end  age_mean  \n",
       "0                          2               0      8370     0   17       8.5  \n",
       "1                          2               0     15200     0   17       8.5  \n",
       "2                          2               0      1422     0   17       8.5  \n",
       "3                          2               0      1057     0   17       8.5  \n",
       "4                         4+               0      7969    55  100      77.5  "
      ]
     },
     "execution_count": 199,
     "metadata": {},
     "output_type": "execute_result"
    }
   ],
   "source": [
    "#to remove 55+ string from the Age data\n",
    "test_df_onehot=test_df.copy()\n",
    "test_df_onehot['Age'] = test_df_onehot['Age'].map({'55+': '55-100','26-35':'26-35','36-45':'36-45','18-25':'18-25',\n",
    "                                                   '46-50':'46-50','51-55':'51-55','0-17':'0-17'})\n",
    "\n",
    "#splitting the age group\n",
    "dummy_df_age=test_df_onehot.copy()\n",
    "dummy_df_age['start'], dummy_df_age['end'] = zip(*test_df_onehot['Age'].map(lambda x: x.split('-')))\n",
    "\n",
    "def split_mean(x):\n",
    "    split_list = x.split('-')\n",
    "    mean = (float(split_list[0])+float(split_list[1]))/2\n",
    "    return mean\n",
    "\n",
    "dummy_df_age['age_mean'] = dummy_df_age['Age'].apply(lambda x: split_mean(x))\n",
    "\n",
    "dummy_df_age.head()"
   ]
  },
  {
   "cell_type": "code",
   "execution_count": 200,
   "metadata": {},
   "outputs": [
    {
     "data": {
      "text/html": [
       "<div>\n",
       "<style scoped>\n",
       "    .dataframe tbody tr th:only-of-type {\n",
       "        vertical-align: middle;\n",
       "    }\n",
       "\n",
       "    .dataframe tbody tr th {\n",
       "        vertical-align: top;\n",
       "    }\n",
       "\n",
       "    .dataframe thead th {\n",
       "        text-align: right;\n",
       "    }\n",
       "</style>\n",
       "<table border=\"1\" class=\"dataframe\">\n",
       "  <thead>\n",
       "    <tr style=\"text-align: right;\">\n",
       "      <th></th>\n",
       "      <th>Product_ID</th>\n",
       "      <th>age_mean</th>\n",
       "      <th>Purchase</th>\n",
       "    </tr>\n",
       "  </thead>\n",
       "  <tbody>\n",
       "    <tr>\n",
       "      <th>0</th>\n",
       "      <td>P00000142</td>\n",
       "      <td>8.5</td>\n",
       "      <td>593926</td>\n",
       "    </tr>\n",
       "    <tr>\n",
       "      <th>1</th>\n",
       "      <td>P00000142</td>\n",
       "      <td>21.5</td>\n",
       "      <td>2773687</td>\n",
       "    </tr>\n",
       "    <tr>\n",
       "      <th>2</th>\n",
       "      <td>P00000142</td>\n",
       "      <td>30.5</td>\n",
       "      <td>4899930</td>\n",
       "    </tr>\n",
       "    <tr>\n",
       "      <th>3</th>\n",
       "      <td>P00000142</td>\n",
       "      <td>40.5</td>\n",
       "      <td>2574329</td>\n",
       "    </tr>\n",
       "    <tr>\n",
       "      <th>4</th>\n",
       "      <td>P00000142</td>\n",
       "      <td>48.0</td>\n",
       "      <td>874719</td>\n",
       "    </tr>\n",
       "  </tbody>\n",
       "</table>\n",
       "</div>"
      ],
      "text/plain": [
       "  Product_ID  age_mean  Purchase\n",
       "0  P00000142       8.5    593926\n",
       "1  P00000142      21.5   2773687\n",
       "2  P00000142      30.5   4899930\n",
       "3  P00000142      40.5   2574329\n",
       "4  P00000142      48.0    874719"
      ]
     },
     "execution_count": 200,
     "metadata": {},
     "output_type": "execute_result"
    }
   ],
   "source": [
    "#grouping by Product_ID to see the product IDs\n",
    "dummy_23=dummy_df_age.groupby(['Product_ID','age_mean']).sum()['Purchase']\n",
    "dummy_23=dummy_23.reset_index(level=['Product_ID','age_mean'])\n",
    "dummy_23.head()"
   ]
  },
  {
   "cell_type": "code",
   "execution_count": 201,
   "metadata": {},
   "outputs": [
    {
     "data": {
      "text/html": [
       "<div>\n",
       "<style scoped>\n",
       "    .dataframe tbody tr th:only-of-type {\n",
       "        vertical-align: middle;\n",
       "    }\n",
       "\n",
       "    .dataframe tbody tr th {\n",
       "        vertical-align: top;\n",
       "    }\n",
       "\n",
       "    .dataframe thead th {\n",
       "        text-align: right;\n",
       "    }\n",
       "</style>\n",
       "<table border=\"1\" class=\"dataframe\">\n",
       "  <thead>\n",
       "    <tr style=\"text-align: right;\">\n",
       "      <th></th>\n",
       "      <th>Product_ID</th>\n",
       "      <th>age_mean</th>\n",
       "      <th>Purchase</th>\n",
       "    </tr>\n",
       "  </thead>\n",
       "  <tbody>\n",
       "    <tr>\n",
       "      <th>0</th>\n",
       "      <td>P00000142</td>\n",
       "      <td>8.5</td>\n",
       "      <td>593926</td>\n",
       "    </tr>\n",
       "    <tr>\n",
       "      <th>1</th>\n",
       "      <td>P00000142</td>\n",
       "      <td>21.5</td>\n",
       "      <td>2773687</td>\n",
       "    </tr>\n",
       "    <tr>\n",
       "      <th>2</th>\n",
       "      <td>P00000142</td>\n",
       "      <td>30.5</td>\n",
       "      <td>4899930</td>\n",
       "    </tr>\n",
       "    <tr>\n",
       "      <th>3</th>\n",
       "      <td>P00000142</td>\n",
       "      <td>40.5</td>\n",
       "      <td>2574329</td>\n",
       "    </tr>\n",
       "    <tr>\n",
       "      <th>4</th>\n",
       "      <td>P00000142</td>\n",
       "      <td>48.0</td>\n",
       "      <td>874719</td>\n",
       "    </tr>\n",
       "  </tbody>\n",
       "</table>\n",
       "</div>"
      ],
      "text/plain": [
       "  Product_ID  age_mean  Purchase\n",
       "0  P00000142       8.5    593926\n",
       "1  P00000142      21.5   2773687\n",
       "2  P00000142      30.5   4899930\n",
       "3  P00000142      40.5   2574329\n",
       "4  P00000142      48.0    874719"
      ]
     },
     "execution_count": 201,
     "metadata": {},
     "output_type": "execute_result"
    }
   ],
   "source": [
    "#filtering by Product_ID\n",
    "df_product_dummy=dummy_23.loc[dummy_23[\"Product_ID\"]=='P00000142',:]\n",
    "df_product_dummy.head()"
   ]
  },
  {
   "cell_type": "code",
   "execution_count": 202,
   "metadata": {},
   "outputs": [
    {
     "data": {
      "text/plain": [
       "Text(0,0.5,'Total Purchase')"
      ]
     },
     "execution_count": 202,
     "metadata": {},
     "output_type": "execute_result"
    },
    {
     "data": {
      "image/png": "[encoded data removed]",
      "text/plain": [
       "<matplotlib.figure.Figure at 0x292610e0dd8>"
      ]
     },
     "metadata": {},
     "output_type": "display_data"
    }
   ],
   "source": [
    "X=df_product_dummy.age_mean.values.reshape(-1,1)\n",
    "y=df_product_dummy.Purchase.values.reshape(-1,1)\n",
    "plt.scatter(X,y)\n",
    "plt.xlabel(\"Age\")\n",
    "plt.ylabel(\"Total Purchase\")"
   ]
  },
  {
   "cell_type": "code",
   "execution_count": 203,
   "metadata": {},
   "outputs": [
    {
     "name": "stdout",
     "output_type": "stream",
     "text": [
      "LinearRegression(copy_X=True, fit_intercept=True, n_jobs=1, normalize=False)\n",
      "coefficients:  [[-29179.31268794]]\n",
      "y-axis intercept:  [2963968.69946852]\n",
      "True output: [593926]\n",
      "Predicted output: [2715944.54162102]\n",
      "Prediction Error: [2122018.54162102]\n"
     ]
    }
   ],
   "source": [
    "#Using linear regression model to fit in the X and y values\n",
    "\n",
    "from sklearn.linear_model import LinearRegression\n",
    "model = LinearRegression()\n",
    "model.fit(X, y)\n",
    "print(model)\n",
    "print('coefficients: ', model.coef_)\n",
    "print('y-axis intercept: ', model.intercept_) \n",
    "\n",
    "#predict y values using the model and compare with true output\n",
    "predictions = model.predict(X)\n",
    "print(f\"True output: {y[0]}\")\n",
    "print(f\"Predicted output: {predictions[0]}\")\n",
    "print(f\"Prediction Error: {predictions[0]-y[0]}\")"
   ]
  },
  {
   "cell_type": "code",
   "execution_count": 204,
   "metadata": {},
   "outputs": [
    {
     "name": "stdout",
     "output_type": "stream",
     "text": [
      "Min X Value: [[8.5]]\n",
      "Max X Value: [[77.5]]\n"
     ]
    },
    {
     "data": {
      "text/plain": [
       "[<matplotlib.lines.Line2D at 0x292362850f0>]"
      ]
     },
     "execution_count": 204,
     "metadata": {},
     "output_type": "execute_result"
    },
    {
     "data": {
      "image/png": "[encoded data removed]",
      "text/plain": [
       "<matplotlib.figure.Figure at 0x29236285e48>"
      ]
     },
     "metadata": {},
     "output_type": "display_data"
    }
   ],
   "source": [
    "x_min = np.array([[X.min()]])\n",
    "x_max = np.array([[X.max()]])\n",
    "y_min = np.array([[y.min()]])\n",
    "y_max = np.array([[y.max()]])\n",
    "print(f\"Min X Value: {x_min}\")\n",
    "print(f\"Max X Value: {x_max}\")\n",
    "plt.xlabel(\"Age\")\n",
    "plt.ylabel(\"Total Purchase\")\n",
    "plt.scatter(X, y, c='blue')\n",
    "plt.plot([x_min[0], x_max[0]], [y_min[0], y_max[0]], c='red')\n"
   ]
  },
  {
   "cell_type": "code",
   "execution_count": 171,
   "metadata": {},
   "outputs": [
    {
     "name": "stdout",
     "output_type": "stream",
     "text": [
      "Mean Squared Error (MSE): 2089595248462.7615\n",
      "R-squared (R2 ): 0.15136633421711498\n"
     ]
    }
   ],
   "source": [
    "from sklearn.metrics import mean_squared_error, r2_score\n",
    "\n",
    "# Use our model to predict a value\n",
    "predicted = model.predict(X)\n",
    "\n",
    "# Score the prediction with mse and r2\n",
    "mse = mean_squared_error(y, predicted)\n",
    "r2 = r2_score(y, predicted)\n",
    "\n",
    "print(f\"Mean Squared Error (MSE): {mse}\")\n",
    "print(f\"R-squared (R2 ): {r2}\")"
   ]
  },
  {
   "cell_type": "markdown",
   "metadata": {},
   "source": [
    "### From the above plot it is clear that there is no linear correlation between purchase and age for the product ID P00000142\n",
    "\n",
    "\n",
    "### 2nd Predictive Analysis\n",
    "+ The independent variable that has been taken are Gender, Marital Status & City category\n",
    "+ The independent variables are encoded using get_dummies()-This is one hot encoding.The basic strategy is to convert each category value into a new column and assign a 1 or 0 (True/False) value to the column. This has the benefit of not weighting a value improperly\n",
    "+ Used multiple linear regression analysis to predict sales for a particular product ID"
   ]
  },
  {
   "cell_type": "code",
   "execution_count": 172,
   "metadata": {},
   "outputs": [
    {
     "name": "stdout",
     "output_type": "stream",
     "text": [
      "(1130, 6) (1130, 1)\n"
     ]
    }
   ],
   "source": [
    "#Changing to dummies\n",
    "df_1 = pd.get_dummies(dummy_df_age, columns=[\"Gender\"])\n",
    "df_2=pd.get_dummies(df_1, columns=[\"City_Category\"])\n",
    "dummy_df_age=df_2.copy()\n",
    "dummy_df_age=dummy_df_age.loc[dummy_df_age[\"Product_ID\"]=='P00000142',:]\n",
    "X=dummy_df_age[['Marital_Status','Gender_M','Gender_F','City_Category_A','City_Category_B','City_Category_B']]\n",
    "y=dummy_df_age['Purchase'].values.reshape(-1,1)\n",
    "print(X.shape, y.shape)"
   ]
  },
  {
   "cell_type": "code",
   "execution_count": 173,
   "metadata": {},
   "outputs": [
    {
     "data": {
      "text/plain": [
       "array([[10849],\n",
       "       [11021],\n",
       "       [ 5630],\n",
       "       [13459],\n",
       "       [13398],\n",
       "       [13468],\n",
       "       [13552],\n",
       "       [10776],\n",
       "       [ 8087],\n",
       "       [13649],\n",
       "       [13662],\n",
       "       [10936],\n",
       "       [10627],\n",
       "       [10811],\n",
       "       [10601],\n",
       "       [10707],\n",
       "       [10742],\n",
       "       [10646],\n",
       "       [ 8385],\n",
       "       [13236],\n",
       "       [10702],\n",
       "       [10817],\n",
       "       [13206],\n",
       "       [13553],\n",
       "       [10689],\n",
       "       [10838],\n",
       "       [10935],\n",
       "       [11055],\n",
       "       [10823],\n",
       "       [10568],\n",
       "       [13267],\n",
       "       [ 7977],\n",
       "       [ 5669],\n",
       "       [10695],\n",
       "       [11064],\n",
       "       [ 2833],\n",
       "       [13511],\n",
       "       [13354],\n",
       "       [11030],\n",
       "       [10577],\n",
       "       [10927],\n",
       "       [10843],\n",
       "       [13645],\n",
       "       [ 8104],\n",
       "       [13430],\n",
       "       [13594],\n",
       "       [10880],\n",
       "       [13405],\n",
       "       [13546],\n",
       "       [11074],\n",
       "       [13694],\n",
       "       [10949],\n",
       "       [11076],\n",
       "       [11072],\n",
       "       [13392],\n",
       "       [13463],\n",
       "       [13623],\n",
       "       [10730],\n",
       "       [10736],\n",
       "       [13443],\n",
       "       [10561],\n",
       "       [10573],\n",
       "       [13515],\n",
       "       [10999],\n",
       "       [10769],\n",
       "       [ 8349],\n",
       "       [ 8357],\n",
       "       [10734],\n",
       "       [13687],\n",
       "       [ 5294],\n",
       "       [10589],\n",
       "       [13347],\n",
       "       [ 5396],\n",
       "       [13373],\n",
       "       [13361],\n",
       "       [10818],\n",
       "       [10717],\n",
       "       [ 8214],\n",
       "       [10759],\n",
       "       [11050],\n",
       "       [10580],\n",
       "       [ 8147],\n",
       "       [13235],\n",
       "       [10637],\n",
       "       [13473],\n",
       "       [13348],\n",
       "       [10720],\n",
       "       [ 8081],\n",
       "       [10738],\n",
       "       [13467],\n",
       "       [11036],\n",
       "       [13630],\n",
       "       [ 7959],\n",
       "       [ 8420],\n",
       "       [ 8262],\n",
       "       [13559],\n",
       "       [13308],\n",
       "       [13650],\n",
       "       [10712],\n",
       "       [13677],\n",
       "       [ 8243],\n",
       "       [ 5786],\n",
       "       [10995],\n",
       "       [13461],\n",
       "       [ 8259],\n",
       "       [13303],\n",
       "       [13579],\n",
       "       [10769],\n",
       "       [10898],\n",
       "       [13192],\n",
       "       [11025],\n",
       "       [ 5687],\n",
       "       [13224],\n",
       "       [13335],\n",
       "       [13353],\n",
       "       [13672],\n",
       "       [10797],\n",
       "       [11042],\n",
       "       [10813],\n",
       "       [13436],\n",
       "       [13537],\n",
       "       [13375],\n",
       "       [10596],\n",
       "       [13491],\n",
       "       [13279],\n",
       "       [10748],\n",
       "       [ 8326],\n",
       "       [10785],\n",
       "       [10905],\n",
       "       [10782],\n",
       "       [10642],\n",
       "       [10990],\n",
       "       [ 8348],\n",
       "       [10800],\n",
       "       [11036],\n",
       "       [10559],\n",
       "       [13686],\n",
       "       [13658],\n",
       "       [13387],\n",
       "       [10592],\n",
       "       [10720],\n",
       "       [13316],\n",
       "       [10873],\n",
       "       [10985],\n",
       "       [11064],\n",
       "       [ 5780],\n",
       "       [ 8208],\n",
       "       [10600],\n",
       "       [10687],\n",
       "       [ 8350],\n",
       "       [13248],\n",
       "       [ 8349],\n",
       "       [10881],\n",
       "       [10922],\n",
       "       [13372],\n",
       "       [ 8387],\n",
       "       [13610],\n",
       "       [13424],\n",
       "       [10565],\n",
       "       [ 7929],\n",
       "       [13323],\n",
       "       [10889],\n",
       "       [13369],\n",
       "       [13192],\n",
       "       [10758],\n",
       "       [13683],\n",
       "       [10923],\n",
       "       [10576],\n",
       "       [10558],\n",
       "       [10605],\n",
       "       [ 8243],\n",
       "       [13525],\n",
       "       [13204],\n",
       "       [10881],\n",
       "       [ 5431],\n",
       "       [10984],\n",
       "       [ 8289],\n",
       "       [11025],\n",
       "       [ 7921],\n",
       "       [11027],\n",
       "       [13367],\n",
       "       [10801],\n",
       "       [10927],\n",
       "       [10609],\n",
       "       [10854],\n",
       "       [13620],\n",
       "       [13515],\n",
       "       [13483],\n",
       "       [10620],\n",
       "       [10779],\n",
       "       [10982],\n",
       "       [11071],\n",
       "       [11067],\n",
       "       [13264],\n",
       "       [13471],\n",
       "       [ 5401],\n",
       "       [13531],\n",
       "       [ 8315],\n",
       "       [10620],\n",
       "       [10641],\n",
       "       [13225],\n",
       "       [ 5543],\n",
       "       [ 3079],\n",
       "       [10879],\n",
       "       [13706],\n",
       "       [13318],\n",
       "       [10709],\n",
       "       [13344],\n",
       "       [10748],\n",
       "       [ 8390],\n",
       "       [ 5620],\n",
       "       [13541],\n",
       "       [10648],\n",
       "       [13713],\n",
       "       [13212],\n",
       "       [10789],\n",
       "       [13585],\n",
       "       [10557],\n",
       "       [10956],\n",
       "       [13252],\n",
       "       [11064],\n",
       "       [10715],\n",
       "       [10703],\n",
       "       [10596],\n",
       "       [10776],\n",
       "       [ 8041],\n",
       "       [13687],\n",
       "       [13648],\n",
       "       [10620],\n",
       "       [10591],\n",
       "       [11068],\n",
       "       [10675],\n",
       "       [13543],\n",
       "       [13706],\n",
       "       [13471],\n",
       "       [13521],\n",
       "       [ 8376],\n",
       "       [ 5355],\n",
       "       [ 5415],\n",
       "       [13355],\n",
       "       [11021],\n",
       "       [ 8196],\n",
       "       [10786],\n",
       "       [13263],\n",
       "       [13240],\n",
       "       [ 5514],\n",
       "       [13469],\n",
       "       [13333],\n",
       "       [10995],\n",
       "       [10823],\n",
       "       [ 8271],\n",
       "       [13301],\n",
       "       [10868],\n",
       "       [ 8224],\n",
       "       [13351],\n",
       "       [10956],\n",
       "       [13248],\n",
       "       [ 8363],\n",
       "       [13448],\n",
       "       [13604],\n",
       "       [10799],\n",
       "       [10695],\n",
       "       [13529],\n",
       "       [10889],\n",
       "       [ 8004],\n",
       "       [11064],\n",
       "       [13323],\n",
       "       [13680],\n",
       "       [10608],\n",
       "       [13593],\n",
       "       [13349],\n",
       "       [ 8026],\n",
       "       [13620],\n",
       "       [ 8007],\n",
       "       [13670],\n",
       "       [10566],\n",
       "       [13356],\n",
       "       [10670],\n",
       "       [13260],\n",
       "       [10878],\n",
       "       [13528],\n",
       "       [13456],\n",
       "       [13440]], dtype=int64)"
      ]
     },
     "execution_count": 173,
     "metadata": {},
     "output_type": "execute_result"
    }
   ],
   "source": [
    "from sklearn.model_selection import train_test_split\n",
    "X_train, X_test, y_train, y_test = train_test_split(X, y, random_state=42)\n",
    "y_test"
   ]
  },
  {
   "cell_type": "code",
   "execution_count": 174,
   "metadata": {},
   "outputs": [
    {
     "name": "stdout",
     "output_type": "stream",
     "text": [
      "Training Score: 0.002107978964294266\n",
      "Testing Score: -0.0017405789492723756\n",
      "coefficients:  [[ 2.71061046e-02 -1.15873052e+02  1.15873052e+02 -3.82451529e+01\n",
      "  -1.97306929e+01 -1.97306929e+01]]\n",
      "y-axis intercept:  [11206.95088787]\n"
     ]
    }
   ],
   "source": [
    "# Fit the model to the training data and calculated the scores for the training and testing data\n",
    "model.fit(X_train, y_train)\n",
    "training_score = model.score(X_train, y_train)\n",
    "testing_score=model.score(X_test,y_test)\n",
    "\n",
    "print(f\"Training Score: {training_score}\")\n",
    "print(f\"Testing Score: {testing_score}\")\n",
    "\n",
    "print('coefficients: ', model.coef_)\n",
    "print('y-axis intercept: ', model.intercept_) "
   ]
  },
  {
   "cell_type": "code",
   "execution_count": 175,
   "metadata": {},
   "outputs": [
    {
     "name": "stdout",
     "output_type": "stream",
     "text": [
      "MSE: 5192510.630472558, R2: -0.0017405789492723756\n"
     ]
    }
   ],
   "source": [
    "from sklearn.metrics import mean_squared_error\n",
    "\n",
    "predictions = model.predict(X_test)\n",
    "MSE = mean_squared_error(y_test, predictions)\n",
    "r2 = model.score(X_test, y_test)\n",
    "\n",
    "print(f\"MSE: {MSE}, R2: {r2}\")"
   ]
  },
  {
   "cell_type": "code",
   "execution_count": 176,
   "metadata": {},
   "outputs": [
    {
     "name": "stdout",
     "output_type": "stream",
     "text": [
      "True output: [10849]\n",
      "Predicted output: [11322.82393941]\n",
      "Prediction Error: [473.82393941]\n"
     ]
    }
   ],
   "source": [
    "print(f\"True output: {y_test[0]}\")\n",
    "print(f\"Predicted output: {predictions[0]}\")\n",
    "print(f\"Prediction Error: {predictions[0]-y_test[0]}\")\n"
   ]
  },
  {
   "cell_type": "code",
   "execution_count": 178,
   "metadata": {},
   "outputs": [
    {
     "name": "stdout",
     "output_type": "stream",
     "text": [
      "(283, 1)\n"
     ]
    },
    {
     "data": {
      "text/html": [
       "<div>\n",
       "<style scoped>\n",
       "    .dataframe tbody tr th:only-of-type {\n",
       "        vertical-align: middle;\n",
       "    }\n",
       "\n",
       "    .dataframe tbody tr th {\n",
       "        vertical-align: top;\n",
       "    }\n",
       "\n",
       "    .dataframe thead th {\n",
       "        text-align: right;\n",
       "    }\n",
       "</style>\n",
       "<table border=\"1\" class=\"dataframe\">\n",
       "  <thead>\n",
       "    <tr style=\"text-align: right;\">\n",
       "      <th></th>\n",
       "      <th>Actual</th>\n",
       "      <th>Prediction</th>\n",
       "    </tr>\n",
       "  </thead>\n",
       "  <tbody>\n",
       "    <tr>\n",
       "      <th>0</th>\n",
       "      <td>10849</td>\n",
       "      <td>11322.823939</td>\n",
       "    </tr>\n",
       "    <tr>\n",
       "      <th>1</th>\n",
       "      <td>11021</td>\n",
       "      <td>11051.616451</td>\n",
       "    </tr>\n",
       "    <tr>\n",
       "      <th>2</th>\n",
       "      <td>5630</td>\n",
       "      <td>11091.104942</td>\n",
       "    </tr>\n",
       "    <tr>\n",
       "      <th>3</th>\n",
       "      <td>13459</td>\n",
       "      <td>11051.616451</td>\n",
       "    </tr>\n",
       "    <tr>\n",
       "      <th>4</th>\n",
       "      <td>13398</td>\n",
       "      <td>11091.077836</td>\n",
       "    </tr>\n",
       "    <tr>\n",
       "      <th>5</th>\n",
       "      <td>13468</td>\n",
       "      <td>11052.832683</td>\n",
       "    </tr>\n",
       "    <tr>\n",
       "      <th>6</th>\n",
       "      <td>13552</td>\n",
       "      <td>11283.362554</td>\n",
       "    </tr>\n",
       "    <tr>\n",
       "      <th>7</th>\n",
       "      <td>10776</td>\n",
       "      <td>11051.643557</td>\n",
       "    </tr>\n",
       "    <tr>\n",
       "      <th>8</th>\n",
       "      <td>8087</td>\n",
       "      <td>11051.616451</td>\n",
       "    </tr>\n",
       "    <tr>\n",
       "      <th>9</th>\n",
       "      <td>13649</td>\n",
       "      <td>11051.616451</td>\n",
       "    </tr>\n",
       "  </tbody>\n",
       "</table>\n",
       "</div>"
      ],
      "text/plain": [
       "   Actual    Prediction\n",
       "0   10849  11322.823939\n",
       "1   11021  11051.616451\n",
       "2    5630  11091.104942\n",
       "3   13459  11051.616451\n",
       "4   13398  11091.077836\n",
       "5   13468  11052.832683\n",
       "6   13552  11283.362554\n",
       "7   10776  11051.643557\n",
       "8    8087  11051.616451\n",
       "9   13649  11051.616451"
      ]
     },
     "execution_count": 178,
     "metadata": {},
     "output_type": "execute_result"
    }
   ],
   "source": [
    "predictions_new=np.reshape(predictions,283)\n",
    "print(y_test.shape)\n",
    "y_test_new=np.reshape(y_test,283)\n",
    "model_df=pd.DataFrame({\"Prediction\": predictions_new, \"Actual\": y_test_new})\n",
    "model_df.head(10)"
   ]
  },
  {
   "cell_type": "markdown",
   "metadata": {},
   "source": [
    "### From the 2nd predictive analysis, it is seen that gender, marital status & city category when taken togetner, do not have positive correlation with the total purchase for a single purchase ID"
   ]
  },
  {
   "cell_type": "code",
   "execution_count": null,
   "metadata": {},
   "outputs": [],
   "source": []
  }
 ],
 "metadata": {
  "kernelspec": {
   "display_name": "Python 3",
   "language": "python",
   "name": "python3"
  },
  "language_info": {
   "codemirror_mode": {
    "name": "ipython",
    "version": 3
   },
   "file_extension": ".py",
   "mimetype": "text/x-python",
   "name": "python",
   "nbconvert_exporter": "python",
   "pygments_lexer": "ipython3",
   "version": "3.6.4"
  }
 },
 "nbformat": 4,
 "nbformat_minor": 2
}
