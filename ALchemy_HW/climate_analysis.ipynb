{
 "cells": [
  {
   "cell_type": "raw",
   "metadata": {},
   "source": [
    "The Set up\n",
    "\n",
    "--Matplotlib\n",
    "--Alchemy\n",
    "--Pandas\n",
    "--Date"
   ]
  },
  {
   "cell_type": "code",
   "execution_count": 96,
   "metadata": {},
   "outputs": [],
   "source": [
    "import sqlalchemy\n",
    "from sqlalchemy.ext.automap import automap_base\n",
    "from sqlalchemy.orm import Session\n",
    "from sqlalchemy import create_engine, inspect, func\n",
    "import datetime as dt\n",
    "import pandas as pd\n",
    "import matplotlib.pyplot as plt\n",
    "import numpy as np"
   ]
  },
  {
   "cell_type": "code",
   "execution_count": 28,
   "metadata": {},
   "outputs": [],
   "source": [
    "engine = create_engine(\"sqlite:///hawaii.sqlite\")"
   ]
  },
  {
   "cell_type": "code",
   "execution_count": 29,
   "metadata": {},
   "outputs": [
    {
     "data": {
      "text/plain": [
       "['measurements', 'stations']"
      ]
     },
     "execution_count": 29,
     "metadata": {},
     "output_type": "execute_result"
    }
   ],
   "source": [
    "Base = automap_base()\n",
    "Base.prepare(engine, reflect=True)\n",
    "Base.classes.keys()"
   ]
  },
  {
   "cell_type": "code",
   "execution_count": 35,
   "metadata": {},
   "outputs": [],
   "source": [
    "Station=Base.classes.stations\n",
    "Measurement= Base.classes.measurements\n",
    "session=Session(engine)"
   ]
  },
  {
   "cell_type": "markdown",
   "metadata": {},
   "source": [
    "# Precipitation Analysis"
   ]
  },
  {
   "cell_type": "code",
   "execution_count": 36,
   "metadata": {},
   "outputs": [
    {
     "data": {
      "text/plain": [
       "datetime.date(2017, 5, 6)"
      ]
     },
     "execution_count": 36,
     "metadata": {},
     "output_type": "execute_result"
    }
   ],
   "source": [
    "#Date one year ago\n",
    "year_ago_date = dt.date.today() - dt.timedelta(days=365)\n",
    "year_ago_date"
   ]
  },
  {
   "cell_type": "code",
   "execution_count": 277,
   "metadata": {},
   "outputs": [
    {
     "data": {
      "text/plain": [
       "[('2017-05-07', 0.024),\n",
       " ('2017-05-08', 0.5016666666666666),\n",
       " ('2017-05-09', 0.9260000000000002),\n",
       " ('2017-05-10', 0.14333333333333334),\n",
       " ('2017-05-11', 0.12),\n",
       " ('2017-05-12', 0.032),\n",
       " ('2017-05-13', 0.048),\n",
       " ('2017-05-14', 0.244),\n",
       " ('2017-05-15', 0.176),\n",
       " ('2017-05-16', 0.06999999999999999),\n",
       " ('2017-05-17', 0.025000000000000005),\n",
       " ('2017-05-18', 0.14166666666666666),\n",
       " ('2017-05-19', 0.01),\n",
       " ('2017-05-20', 0.0075),\n",
       " ('2017-05-21', 0.002),\n",
       " ('2017-05-22', 0.072),\n",
       " ('2017-05-23', 0.11833333333333333),\n",
       " ('2017-05-24', 0.6483333333333333),\n",
       " ('2017-05-25', 0.37000000000000005),\n",
       " ('2017-05-26', 0.004),\n",
       " ('2017-05-27', 0.085),\n",
       " ('2017-05-28', 0.06833333333333334),\n",
       " ('2017-05-29', 0.084),\n",
       " ('2017-05-30', 0.346),\n",
       " ('2017-05-31', 0.074),\n",
       " ('2017-06-01', 0.006666666666666667),\n",
       " ('2017-06-02', 0.06799999999999999),\n",
       " ('2017-06-03', 0.122),\n",
       " ('2017-06-04', 0.19166666666666665),\n",
       " ('2017-06-05', 0.013333333333333334),\n",
       " ('2017-06-06', 0.0),\n",
       " ('2017-06-07', 0.0016666666666666668),\n",
       " ('2017-06-08', 0.005),\n",
       " ('2017-06-09', 0.008),\n",
       " ('2017-06-10', 0.306),\n",
       " ('2017-06-11', 0.35833333333333334),\n",
       " ('2017-06-12', 0.2916666666666667),\n",
       " ('2017-06-13', 0.22999999999999998),\n",
       " ('2017-06-14', 0.26166666666666666),\n",
       " ('2017-06-15', 0.45166666666666666),\n",
       " ('2017-06-16', 0.03333333333333333),\n",
       " ('2017-06-17', 0.09000000000000001),\n",
       " ('2017-06-18', 0.23666666666666666),\n",
       " ('2017-06-19', 0.12166666666666666),\n",
       " ('2017-06-20', 0.11000000000000001),\n",
       " ('2017-06-21', 0.1275),\n",
       " ('2017-06-22', 0.07333333333333335),\n",
       " ('2017-06-23', 0.11166666666666665),\n",
       " ('2017-06-24', 0.128),\n",
       " ('2017-06-25', 0.12),\n",
       " ('2017-06-26', 0.02),\n",
       " ('2017-06-27', 0.018333333333333333),\n",
       " ('2017-06-28', 0.005),\n",
       " ('2017-06-29', 0.011666666666666667),\n",
       " ('2017-06-30', 0.07428571428571429),\n",
       " ('2017-07-01', 0.065),\n",
       " ('2017-07-02', 0.18),\n",
       " ('2017-07-03', 0.148),\n",
       " ('2017-07-04', 0.037500000000000006),\n",
       " ('2017-07-05', 0.0),\n",
       " ('2017-07-06', 0.004),\n",
       " ('2017-07-07', 0.1),\n",
       " ('2017-07-08', 0.016666666666666666),\n",
       " ('2017-07-09', 0.03333333333333333),\n",
       " ('2017-07-10', 0.006666666666666667),\n",
       " ('2017-07-11', 0.005),\n",
       " ('2017-07-12', 0.060000000000000005),\n",
       " ('2017-07-13', 0.3016666666666667),\n",
       " ('2017-07-14', 0.15833333333333335),\n",
       " ('2017-07-15', 0.03166666666666667),\n",
       " ('2017-07-16', 0.135),\n",
       " ('2017-07-17', 0.15166666666666667),\n",
       " ('2017-07-18', 0.3614285714285714),\n",
       " ('2017-07-19', 0.06833333333333334),\n",
       " ('2017-07-20', 0.17714285714285713),\n",
       " ('2017-07-21', 0.018571428571428572),\n",
       " ('2017-07-22', 0.7366666666666667),\n",
       " ('2017-07-23', 0.22600000000000003),\n",
       " ('2017-07-24', 0.6539999999999999),\n",
       " ('2017-07-25', 0.08714285714285715),\n",
       " ('2017-07-26', 0.08333333333333333),\n",
       " ('2017-07-27', 0.0016666666666666668),\n",
       " ('2017-07-28', 0.11),\n",
       " ('2017-07-29', 0.10166666666666667),\n",
       " ('2017-07-30', 0.06),\n",
       " ('2017-07-31', 0.0),\n",
       " ('2017-08-01', 0.04666666666666666),\n",
       " ('2017-08-02', 0.075),\n",
       " ('2017-08-03', 0.017499999999999998),\n",
       " ('2017-08-04', 0.015),\n",
       " ('2017-08-05', 0.03),\n",
       " ('2017-08-06', 0.0),\n",
       " ('2017-08-07', 0.0125),\n",
       " ('2017-08-08', 0.11000000000000001),\n",
       " ('2017-08-09', 0.049999999999999996),\n",
       " ('2017-08-10', 0.0175),\n",
       " ('2017-08-11', 0.0),\n",
       " ('2017-08-12', 0.04666666666666667),\n",
       " ('2017-08-13', 0.0),\n",
       " ('2017-08-14', 0.062),\n",
       " ('2017-08-15', 0.164),\n",
       " ('2017-08-16', 0.1525),\n",
       " ('2017-08-17', 0.0475),\n",
       " ('2017-08-18', 0.02),\n",
       " ('2017-08-19', 0.03),\n",
       " ('2017-08-20', 0.005),\n",
       " ('2017-08-21', 0.19333333333333336),\n",
       " ('2017-08-22', 0.16666666666666666),\n",
       " ('2017-08-23', 0.1325)]"
      ]
     },
     "execution_count": 277,
     "metadata": {},
     "output_type": "execute_result"
    }
   ],
   "source": [
    "#quering the prcp values for one year\n",
    "# the thing i wanna display should be written after session.query\n",
    "\n",
    "#i have taken the average as there were more than one temp observation for a single day\n",
    "\n",
    "Prcp_values_one_year=session.query(Measurement.date,func.avg(Measurement.prcp)).\\\n",
    "filter(Measurement.date > year_ago_date).group_by(Measurement.date).order_by(Measurement.date).all()\n",
    "\n",
    "Prcp_values_one_year"
   ]
  },
  {
   "cell_type": "code",
   "execution_count": 281,
   "metadata": {},
   "outputs": [
    {
     "data": {
      "text/plain": [
       "10"
      ]
     },
     "execution_count": 281,
     "metadata": {},
     "output_type": "execute_result"
    }
   ],
   "source": [
    "length_prcpvalues_lastyear=len(Prcp_values_one_year)\n",
    "#number_of_xticks_to display=10\n",
    "date_spacing=int(length_prcpvalues_lastyear/10)\n",
    "date_spacing\n"
   ]
  },
  {
   "cell_type": "code",
   "execution_count": 282,
   "metadata": {},
   "outputs": [
    {
     "name": "stderr",
     "output_type": "stream",
     "text": [
      "C:\\Users\\karis\\Anaconda3\\envs\\PythonData\\lib\\site-packages\\matplotlib\\figure.py:418: UserWarning: matplotlib is currently using a non-GUI backend, so cannot show the figure\n",
      "  \"matplotlib is currently using a non-GUI backend, \"\n"
     ]
    },
    {
     "data": {
      "image/png": "[encoded data removed]",
      "text/plain": [
       "<matplotlib.figure.Figure at 0x214038ded68>"
      ]
     },
     "metadata": {},
     "output_type": "display_data"
    }
   ],
   "source": [
    "# Plotting the Precipitation Results in a Matplotlib bar chart\n",
    "import matplotlib.ticker as mticker\n",
    "df=pd.DataFrame(Prcp_values_one_year, columns=['Date', 'Precipitation Values'])\n",
    "\n",
    "n = 10\n",
    "df.set_index('Date', inplace=True)\n",
    "ax = df.plot(kind='bar')\n",
    "ticks = ax.xaxis.get_ticklocs()\n",
    "ticklabels = [l.get_text() for l in ax.xaxis.get_ticklabels()]\n",
    "ax.xaxis.set_ticks(ticks[::n])\n",
    "ax.xaxis.set_ticklabels(ticklabels[::n])\n",
    "plt.xticks(rotation='45')\n",
    "ax.figure.show()\n",
    "\n"
   ]
  },
  {
   "cell_type": "code",
   "execution_count": null,
   "metadata": {},
   "outputs": [],
   "source": [
    "# Plotting the Precipitation Results in a Matplotlib bar chart\n",
    "#import matplotlib.ticker as mticker\n",
    "df=pd.DataFrame(Prcp_values_one_year, columns=['Date', 'Precipitation Values'])\n",
    "df.set_index('Date', inplace=True)\n",
    "\n",
    "df.plot.bar()\n",
    "df.plot(x_compat=True,color = 'blue')\n",
    "#myLocator = mticker.MultipleLocator(15)\n",
    "#ax.xaxis.set_major_locator(myLocator)\n",
    "plt.xticks(rotation='45')\n",
    "plt.show()"
   ]
  },
  {
   "cell_type": "markdown",
   "metadata": {},
   "source": [
    "# Station Analysis"
   ]
  },
  {
   "cell_type": "code",
   "execution_count": 87,
   "metadata": {},
   "outputs": [
    {
     "data": {
      "text/plain": [
       "9"
      ]
     },
     "execution_count": 87,
     "metadata": {},
     "output_type": "execute_result"
    }
   ],
   "source": [
    "#Design a query to calculate the total number of stations\n",
    "Total_stations=session.query(func.count(Station.station)).scalar()\n",
    "Total_stations"
   ]
  },
  {
   "cell_type": "code",
   "execution_count": 107,
   "metadata": {},
   "outputs": [
    {
     "data": {
      "text/plain": [
       "[('USC00519281', 2772),\n",
       " ('USC00513117', 2696),\n",
       " ('USC00519397', 2685),\n",
       " ('USC00519523', 2572),\n",
       " ('USC00516128', 2484),\n",
       " ('USC00514830', 1937),\n",
       " ('USC00511918', 1932),\n",
       " ('USC00517948', 683),\n",
       " ('USC00518838', 342)]"
      ]
     },
     "execution_count": 107,
     "metadata": {},
     "output_type": "execute_result"
    }
   ],
   "source": [
    "#Design a query to find the most active stations.\n",
    "#List the stations and observation counts in descending order\n",
    "sel=[Measurement.station,func.count(Measurement.station)]\n",
    "Active_Stations=session.query(*sel).group_by(Measurement.station).\\\n",
    "order_by(func.count(Measurement.station).desc()).all()\n",
    "Active_Stations"
   ]
  },
  {
   "cell_type": "code",
   "execution_count": 297,
   "metadata": {},
   "outputs": [
    {
     "name": "stdout",
     "output_type": "stream",
     "text": [
      "Highest number of obs::\n",
      "Station Code: ('USC00519281',)\n",
      "Station Name: ('WAIHEE 837.5, HI US',)\n"
     ]
    }
   ],
   "source": [
    "#Which station has the highest number of observations?\n",
    "Highest_obs_station=session.query(Measurement.station).group_by(Measurement.station).\\\n",
    "order_by(func.count(Measurement.station).desc()).first()\n",
    "\n",
    "Station_name=session.query(Station.name).filter(Station.station == Highest_obs_station[0]).all()\n",
    "\n",
    "print(f\"Highest number of obs::\")\n",
    "print(f\"Station Code: {Highest_obs_station}\")\n",
    "print(f\"Station Name: {Station_name[0]}\")"
   ]
  },
  {
   "cell_type": "code",
   "execution_count": 291,
   "metadata": {},
   "outputs": [
    {
     "data": {
      "text/plain": [
       "[('2017-05-06', 77.5),\n",
       " ('2017-05-07', 75.4),\n",
       " ('2017-05-08', 72.83333333333333),\n",
       " ('2017-05-09', 73.4),\n",
       " ('2017-05-10', 75.16666666666667),\n",
       " ('2017-05-11', 75.6),\n",
       " ('2017-05-12', 75.0),\n",
       " ('2017-05-13', 75.4),\n",
       " ('2017-05-14', 75.4),\n",
       " ('2017-05-15', 75.2),\n",
       " ('2017-05-16', 75.16666666666667),\n",
       " ('2017-05-17', 75.5),\n",
       " ('2017-05-18', 71.66666666666667),\n",
       " ('2017-05-19', 73.25),\n",
       " ('2017-05-20', 76.25),\n",
       " ('2017-05-21', 74.2),\n",
       " ('2017-05-22', 74.4),\n",
       " ('2017-05-23', 75.66666666666667),\n",
       " ('2017-05-24', 74.66666666666667),\n",
       " ('2017-05-25', 74.83333333333333),\n",
       " ('2017-05-26', 75.0),\n",
       " ('2017-05-27', 74.5),\n",
       " ('2017-05-28', 76.5),\n",
       " ('2017-05-29', 75.8),\n",
       " ('2017-05-30', 76.2),\n",
       " ('2017-05-31', 78.0),\n",
       " ('2017-06-01', 78.16666666666667),\n",
       " ('2017-06-02', 78.0),\n",
       " ('2017-06-03', 78.0),\n",
       " ('2017-06-04', 78.5),\n",
       " ('2017-06-05', 77.33333333333333),\n",
       " ('2017-06-06', 76.83333333333333),\n",
       " ('2017-06-07', 77.83333333333333),\n",
       " ('2017-06-08', 77.0),\n",
       " ('2017-06-09', 77.8),\n",
       " ('2017-06-10', 75.8),\n",
       " ('2017-06-11', 77.0),\n",
       " ('2017-06-12', 77.66666666666667),\n",
       " ('2017-06-13', 76.16666666666667),\n",
       " ('2017-06-14', 77.16666666666667),\n",
       " ('2017-06-15', 77.16666666666667),\n",
       " ('2017-06-16', 77.0),\n",
       " ('2017-06-17', 77.16666666666667),\n",
       " ('2017-06-18', 76.0),\n",
       " ('2017-06-19', 76.83333333333333),\n",
       " ('2017-06-20', 75.6),\n",
       " ('2017-06-21', 77.5),\n",
       " ('2017-06-22', 77.66666666666667),\n",
       " ('2017-06-23', 75.33333333333333),\n",
       " ('2017-06-24', 77.2),\n",
       " ('2017-06-25', 76.6),\n",
       " ('2017-06-26', 78.2),\n",
       " ('2017-06-27', 78.0),\n",
       " ('2017-06-28', 77.66666666666667),\n",
       " ('2017-06-29', 77.33333333333333),\n",
       " ('2017-06-30', 75.71428571428571),\n",
       " ('2017-07-01', 77.25),\n",
       " ('2017-07-02', 79.0),\n",
       " ('2017-07-03', 77.8),\n",
       " ('2017-07-04', 78.0),\n",
       " ('2017-07-05', 77.25),\n",
       " ('2017-07-06', 76.8),\n",
       " ('2017-07-07', 76.8),\n",
       " ('2017-07-08', 77.16666666666667),\n",
       " ('2017-07-09', 79.33333333333333),\n",
       " ('2017-07-10', 77.83333333333333),\n",
       " ('2017-07-11', 76.33333333333333),\n",
       " ('2017-07-12', 78.0),\n",
       " ('2017-07-13', 77.66666666666667),\n",
       " ('2017-07-14', 78.83333333333333),\n",
       " ('2017-07-15', 80.16666666666667),\n",
       " ('2017-07-16', 78.33333333333333),\n",
       " ('2017-07-17', 77.83333333333333),\n",
       " ('2017-07-18', 79.14285714285714),\n",
       " ('2017-07-19', 78.16666666666667),\n",
       " ('2017-07-20', 78.42857142857143),\n",
       " ('2017-07-21', 78.14285714285714),\n",
       " ('2017-07-22', 77.66666666666667),\n",
       " ('2017-07-23', 79.6),\n",
       " ('2017-07-24', 77.4),\n",
       " ('2017-07-25', 79.28571428571429),\n",
       " ('2017-07-26', 78.5),\n",
       " ('2017-07-27', 77.83333333333333),\n",
       " ('2017-07-28', 79.14285714285714),\n",
       " ('2017-07-29', 80.5),\n",
       " ('2017-07-30', 80.6),\n",
       " ('2017-07-31', 77.8),\n",
       " ('2017-08-01', 75.33333333333333),\n",
       " ('2017-08-02', 79.0),\n",
       " ('2017-08-03', 79.0),\n",
       " ('2017-08-04', 80.0),\n",
       " ('2017-08-05', 81.5),\n",
       " ('2017-08-06', 82.0),\n",
       " ('2017-08-07', 80.5),\n",
       " ('2017-08-08', 78.5),\n",
       " ('2017-08-09', 77.33333333333333),\n",
       " ('2017-08-10', 79.25),\n",
       " ('2017-08-11', 80.0),\n",
       " ('2017-08-12', 79.0),\n",
       " ('2017-08-13', 80.66666666666667),\n",
       " ('2017-08-14', 78.2),\n",
       " ('2017-08-15', 77.2),\n",
       " ('2017-08-16', 77.0),\n",
       " ('2017-08-17', 77.25),\n",
       " ('2017-08-18', 78.66666666666667),\n",
       " ('2017-08-19', 76.66666666666667),\n",
       " ('2017-08-20', 80.5),\n",
       " ('2017-08-21', 78.66666666666667),\n",
       " ('2017-08-22', 80.0),\n",
       " ('2017-08-23', 80.25)]"
      ]
     },
     "execution_count": 291,
     "metadata": {},
     "output_type": "execute_result"
    }
   ],
   "source": [
    "#Design a query to retrieve the last 12 months of temperature observation data (tobs).\n",
    "\n",
    "#Have taken  the average value of temp observation recorded by all the station in that particular day\n",
    "last_12mts_temmp=session.query(Measurement.date,func.avg(Measurement.tobs)).filter(Measurement.date>=year_ago_date).\\\n",
    "group_by(Measurement.date).all()\n",
    "last_12mts_temmp"
   ]
  },
  {
   "cell_type": "code",
   "execution_count": 304,
   "metadata": {},
   "outputs": [
    {
     "name": "stdout",
     "output_type": "stream",
     "text": [
      "Highest number of obs in last year::\n",
      "Station Code: ('USC00519397',)\n",
      "Station Name: ('WAIKIKI 717.2, HI US',)\n"
     ]
    }
   ],
   "source": [
    "#Filter by the station with the highest number of observations.\n",
    "\n",
    "#filtering out the station with the highest number of obs FOR THE LAST YEAR as highest number of observations recorded by station\n",
    "#in last one year is different from when all these years taken together\n",
    "\n",
    "\n",
    "Highest_obs_station_oneyear=session.query(Measurement.station).group_by(Measurement.station).\\\n",
    "filter(Measurement.date >= year_ago_date).order_by(func.count(Measurement.station).desc()).first()\n",
    "\n",
    "Station_name_oneyear=session.query(Station.name).filter(Station.station == Highest_obs_station_oneyear[0]).all()\n",
    "\n",
    "print(f\"Highest number of obs in last year::\")\n",
    "print(f\"Station Code: {Highest_obs_station_oneyear}\")\n",
    "print(f\"Station Name: {Station_name_oneyear[0]}\")\n"
   ]
  },
  {
   "cell_type": "code",
   "execution_count": 310,
   "metadata": {},
   "outputs": [
    {
     "data": {
      "text/plain": [
       "[('USC00519397', '2017-05-06', 79.0),\n",
       " ('USC00519397', '2017-05-07', 79.0),\n",
       " ('USC00519397', '2017-05-08', 77.0),\n",
       " ('USC00519397', '2017-05-10', 78.0),\n",
       " ('USC00519397', '2017-05-11', 78.0),\n",
       " ('USC00519397', '2017-05-12', 79.0),\n",
       " ('USC00519397', '2017-05-13', 79.0),\n",
       " ('USC00519397', '2017-05-14', 77.0),\n",
       " ('USC00519397', '2017-05-15', 78.0),\n",
       " ('USC00519397', '2017-05-16', 78.0),\n",
       " ('USC00519397', '2017-05-17', 78.0),\n",
       " ('USC00519397', '2017-05-18', 73.0),\n",
       " ('USC00519397', '2017-05-19', 76.0),\n",
       " ('USC00519397', '2017-05-20', 78.0),\n",
       " ('USC00519397', '2017-05-21', 76.0),\n",
       " ('USC00519397', '2017-05-22', 77.0),\n",
       " ('USC00519397', '2017-05-23', 87.0),\n",
       " ('USC00519397', '2017-05-24', 77.0),\n",
       " ('USC00519397', '2017-05-25', 77.0),\n",
       " ('USC00519397', '2017-05-27', 74.0),\n",
       " ('USC00519397', '2017-05-28', 76.0),\n",
       " ('USC00519397', '2017-05-29', 75.0),\n",
       " ('USC00519397', '2017-05-30', 76.0),\n",
       " ('USC00519397', '2017-05-31', 79.0),\n",
       " ('USC00519397', '2017-06-01', 79.0),\n",
       " ('USC00519397', '2017-06-02', 79.0),\n",
       " ('USC00519397', '2017-06-03', 79.0),\n",
       " ('USC00519397', '2017-06-04', 79.0),\n",
       " ('USC00519397', '2017-06-05', 80.0),\n",
       " ('USC00519397', '2017-06-06', 79.0),\n",
       " ('USC00519397', '2017-06-07', 79.0),\n",
       " ('USC00519397', '2017-06-08', 80.0),\n",
       " ('USC00519397', '2017-06-09', 80.0),\n",
       " ('USC00519397', '2017-06-10', 77.0),\n",
       " ('USC00519397', '2017-06-11', 79.0),\n",
       " ('USC00519397', '2017-06-12', 83.0),\n",
       " ('USC00519397', '2017-06-13', 80.0),\n",
       " ('USC00519397', '2017-06-14', 80.0),\n",
       " ('USC00519397', '2017-06-15', 78.0),\n",
       " ('USC00519397', '2017-06-16', 79.0),\n",
       " ('USC00519397', '2017-06-17', 80.0),\n",
       " ('USC00519397', '2017-06-18', 77.0),\n",
       " ('USC00519397', '2017-06-19', 80.0),\n",
       " ('USC00519397', '2017-06-20', 78.0),\n",
       " ('USC00519397', '2017-06-21', 79.0),\n",
       " ('USC00519397', '2017-06-22', 80.0),\n",
       " ('USC00519397', '2017-06-23', 78.0),\n",
       " ('USC00519397', '2017-06-24', 80.0),\n",
       " ('USC00519397', '2017-06-25', 80.0),\n",
       " ('USC00519397', '2017-06-26', 81.0),\n",
       " ('USC00519397', '2017-06-27', 80.0),\n",
       " ('USC00519397', '2017-06-28', 79.0),\n",
       " ('USC00519397', '2017-06-29', 79.0),\n",
       " ('USC00519397', '2017-06-30', 75.0),\n",
       " ('USC00519397', '2017-07-01', 80.0),\n",
       " ('USC00519397', '2017-07-02', 80.0),\n",
       " ('USC00519397', '2017-07-03', 78.0),\n",
       " ('USC00519397', '2017-07-04', 80.0),\n",
       " ('USC00519397', '2017-07-05', 80.0),\n",
       " ('USC00519397', '2017-07-06', 81.0),\n",
       " ('USC00519397', '2017-07-07', 79.0),\n",
       " ('USC00519397', '2017-07-08', 80.0),\n",
       " ('USC00519397', '2017-07-09', 80.0),\n",
       " ('USC00519397', '2017-07-10', 80.0),\n",
       " ('USC00519397', '2017-07-11', 78.0),\n",
       " ('USC00519397', '2017-07-12', 81.0),\n",
       " ('USC00519397', '2017-07-13', 79.0),\n",
       " ('USC00519397', '2017-07-14', 81.0),\n",
       " ('USC00519397', '2017-07-15', 80.0),\n",
       " ('USC00519397', '2017-07-16', 78.0),\n",
       " ('USC00519397', '2017-07-17', 80.0),\n",
       " ('USC00519397', '2017-07-18', 80.0),\n",
       " ('USC00519397', '2017-07-20', 80.0),\n",
       " ('USC00519397', '2017-07-21', 80.0),\n",
       " ('USC00519397', '2017-07-22', 81.0),\n",
       " ('USC00519397', '2017-07-23', 81.0),\n",
       " ('USC00519397', '2017-07-24', 78.0),\n",
       " ('USC00519397', '2017-07-25', 80.0),\n",
       " ('USC00519397', '2017-07-26', 82.0),\n",
       " ('USC00519397', '2017-07-27', 79.0),\n",
       " ('USC00519397', '2017-07-28', 81.0),\n",
       " ('USC00519397', '2017-07-29', 81.0),\n",
       " ('USC00519397', '2017-07-30', 81.0),\n",
       " ('USC00519397', '2017-07-31', 80.0),\n",
       " ('USC00519397', '2017-08-01', 77.0),\n",
       " ('USC00519397', '2017-08-02', 73.0),\n",
       " ('USC00519397', '2017-08-03', 79.0),\n",
       " ('USC00519397', '2017-08-04', 80.0),\n",
       " ('USC00519397', '2017-08-05', 81.0),\n",
       " ('USC00519397', '2017-08-06', 80.0),\n",
       " ('USC00519397', '2017-08-07', 80.0),\n",
       " ('USC00519397', '2017-08-08', 80.0),\n",
       " ('USC00519397', '2017-08-09', 80.0),\n",
       " ('USC00519397', '2017-08-10', 81.0),\n",
       " ('USC00519397', '2017-08-11', 78.0),\n",
       " ('USC00519397', '2017-08-12', 80.0),\n",
       " ('USC00519397', '2017-08-13', 81.0),\n",
       " ('USC00519397', '2017-08-14', 79.0),\n",
       " ('USC00519397', '2017-08-15', 78.0),\n",
       " ('USC00519397', '2017-08-18', 80.0),\n",
       " ('USC00519397', '2017-08-19', 79.0),\n",
       " ('USC00519397', '2017-08-20', 81.0),\n",
       " ('USC00519397', '2017-08-21', 81.0),\n",
       " ('USC00519397', '2017-08-22', 82.0),\n",
       " ('USC00519397', '2017-08-23', 81.0)]"
      ]
     },
     "execution_count": 310,
     "metadata": {},
     "output_type": "execute_result"
    }
   ],
   "source": [
    "#Filter by the station with the highest number of observations.\n",
    "Temp_obs_oneyear=session.query(Measurement.station,Measurement.date,Measurement.tobs).\\\n",
    "filter(Measurement.date >= year_ago_date).\\\n",
    "filter(Measurement.station==Highest_obs_station_oneyear[0]).\\\n",
    "order_by(Measurement.date).all()\n",
    "Temp_obs_oneyear"
   ]
  },
  {
   "cell_type": "code",
   "execution_count": 311,
   "metadata": {},
   "outputs": [],
   "source": [
    "#Creating dataframe for the plot\n",
    "df=pd.DataFrame(Temp_obs_oneyear, columns=['Station', 'Date','tobs'])"
   ]
  },
  {
   "cell_type": "code",
   "execution_count": 312,
   "metadata": {},
   "outputs": [
    {
     "data": {
      "text/plain": [
       "Text(0.5,1,\"Temp obs by [('WAIKIKI 717.2, HI US',)] for Hawaii\")"
      ]
     },
     "execution_count": 312,
     "metadata": {},
     "output_type": "execute_result"
    },
    {
     "data": {
      "image/png": "[encoded data removed]",
      "text/plain": [
       "<matplotlib.figure.Figure at 0x21404081940>"
      ]
     },
     "metadata": {},
     "output_type": "display_data"
    }
   ],
   "source": [
    "x_axis = df['tobs']\n",
    "plt.hist(x_axis, normed=True, bins=12)\n",
    "plt.ylabel('Frequency')\n",
    "plt.xlabel('Temp obs')\n",
    "plt.title(f\"Temp obs by {Station_name_oneyear} for Hawaii\")"
   ]
  },
  {
   "cell_type": "markdown",
   "metadata": {},
   "source": [
    "#Temperature Analysis"
   ]
  },
  {
   "cell_type": "code",
   "execution_count": 313,
   "metadata": {},
   "outputs": [
    {
     "name": "stdout",
     "output_type": "stream",
     "text": [
      "(63.285714285714285,) (75.16666666666667,) [(67.97058823529412,)]\n"
     ]
    }
   ],
   "source": [
    "def calc_temps(start_date,end_date):\n",
    "    \n",
    "        start_date_lastyear=(dt.datetime.strptime(start_date, '%Y-%m-%d'))-dt.timedelta(days=365)\n",
    "        end_date_lastyear=(dt.datetime.strptime(end_date, '%Y-%m-%d'))-dt.timedelta(days=365)\n",
    "        #print(start_date_lastyear)\n",
    "    \n",
    "        #as the temperature is recorded by various stations for a single day, so averaging out the temps\n",
    "        min_temp=session.query(func.avg(Measurement.tobs)).filter(Measurement.date >=start_date_lastyear).\\\n",
    "        filter(Measurement.date <= end_date_lastyear).group_by(Measurement.date).\\\n",
    "        order_by(func.avg(Measurement.tobs)).first()\n",
    "        #print(min_temp)\n",
    "    \n",
    "        max_temp=session.query(func.avg(Measurement.tobs)).filter(Measurement.date >=start_date_lastyear).\\\n",
    "        filter(Measurement.date <= end_date_lastyear).group_by(Measurement.date).\\\n",
    "        order_by(func.avg(Measurement.tobs).desc()).first()\n",
    "        #print(max_temp)\n",
    "    \n",
    "        avg_temp=session.query(func.avg(Measurement.tobs)).filter(Measurement.date >=start_date_lastyear).\\\n",
    "        filter(Measurement.date <= end_date_lastyear).all()\n",
    "        \n",
    "        return min_temp,max_temp,avg_temp\n",
    "    \n",
    "\n",
    "start_date='2018-02-05'\n",
    "end_date='2018-02-10'\n",
    "min_temp,max_temp,avg_temp=calc_temps(start_date, end_date)\n",
    "print (min_temp,max_temp,avg_temp)\n",
    "\n",
    "\n"
   ]
  },
  {
   "cell_type": "code",
   "execution_count": 314,
   "metadata": {},
   "outputs": [
    {
     "name": "stderr",
     "output_type": "stream",
     "text": [
      "C:\\Users\\karis\\Anaconda3\\envs\\PythonData\\lib\\site-packages\\matplotlib\\figure.py:418: UserWarning: matplotlib is currently using a non-GUI backend, so cannot show the figure\n",
      "  \"matplotlib is currently using a non-GUI backend, \"\n"
     ]
    },
    {
     "data": {
      "image/png": "[encoded data removed]",
      "text/plain": [
       "<matplotlib.figure.Figure at 0x21405e33588>"
      ]
     },
     "metadata": {},
     "output_type": "display_data"
    }
   ],
   "source": [
    "#Boxplot\n",
    "fig, ax = plt.subplots(figsize=plt.figaspect(2.))\n",
    "xpos = 1\n",
    "yerr = max_temp[0]-min_temp[0]\n",
    "bar = ax.bar(xpos, max_temp, yerr=yerr, alpha=0.5, color='coral', align=\"center\")\n",
    "ax.set(xticks=range(xpos), xticklabels=\"a\", title=\"Trip Avg Temp\", ylabel=\"Temp (F)\")\n",
    "ax.margins(.2, .2)\n",
    "# fig.autofmt_xdate()\n",
    "fig.tight_layout()\n",
    "fig.show()"
   ]
  },
  {
   "cell_type": "code",
   "execution_count": null,
   "metadata": {},
   "outputs": [],
   "source": []
  }
 ],
 "metadata": {
  "kernelspec": {
   "display_name": "Python 3",
   "language": "python",
   "name": "python3"
  },
  "language_info": {
   "codemirror_mode": {
    "name": "ipython",
    "version": 3
   },
   "file_extension": ".py",
   "mimetype": "text/x-python",
   "name": "python",
   "nbconvert_exporter": "python",
   "pygments_lexer": "ipython3",
   "version": "3.6.4"
  }
 },
 "nbformat": 4,
 "nbformat_minor": 2
}
