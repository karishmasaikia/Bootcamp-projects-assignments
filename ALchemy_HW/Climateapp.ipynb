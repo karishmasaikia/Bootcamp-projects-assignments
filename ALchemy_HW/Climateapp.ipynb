{
 "cells": [
  {
   "cell_type": "code",
   "execution_count": 16,
   "metadata": {},
   "outputs": [],
   "source": [
    "# 1. import Flask\n",
    "from flask import Flask,jsonify\n",
    "import sqlalchemy\n",
    "from sqlalchemy.ext.automap import automap_base\n",
    "from sqlalchemy.orm import Session\n",
    "from sqlalchemy import create_engine, inspect, func\n",
    "import datetime as dt\n",
    "import pandas as pd\n",
    "import matplotlib.pyplot as plt\n",
    "import numpy as np"
   ]
  },
  {
   "cell_type": "code",
   "execution_count": 7,
   "metadata": {},
   "outputs": [],
   "source": [
    "engine = create_engine(\"sqlite:///hawaii.sqlite\")"
   ]
  },
  {
   "cell_type": "code",
   "execution_count": 8,
   "metadata": {},
   "outputs": [
    {
     "data": {
      "text/plain": [
       "['measurements', 'stations']"
      ]
     },
     "execution_count": 8,
     "metadata": {},
     "output_type": "execute_result"
    }
   ],
   "source": [
    "Base = automap_base()\n",
    "Base.prepare(engine, reflect=True)\n",
    "Base.classes.keys()"
   ]
  },
  {
   "cell_type": "code",
   "execution_count": 9,
   "metadata": {},
   "outputs": [],
   "source": [
    "Station=Base.classes.stations\n",
    "Measurement= Base.classes.measurements\n",
    "session=Session(engine)"
   ]
  },
  {
   "cell_type": "code",
   "execution_count": 11,
   "metadata": {},
   "outputs": [],
   "source": [
    "# 2. Create an app, being sure to pass __name__\n",
    "app = Flask(__name__)"
   ]
  },
  {
   "cell_type": "code",
   "execution_count": 52,
   "metadata": {},
   "outputs": [],
   "source": [
    "@app.route(\"/\")\n",
    "def welcome_home():\n",
    "    print(\"Server received request for 'Home' page...\") \n",
    "    return (f\"Welcome to my Weather Analysis page for Hawaii!<br/>\"\n",
    "        f\"Available Routes:<br/>\"\n",
    "        f\"Temperature obs with dates for last year : /api/v1.0/precipitation<br/>\"\n",
    "        f\"Station List : /api/v1.0/stations<br/>\"\n",
    "        f\"Temperature observation for last year : /api/v1.0/tobs<br/>\"\n",
    "        f\"Temp min, max and avg query with start date only (will return Temp Min, Max Avg respectively) : /api/v1.0/<start><br/>\"\n",
    "        f\"Temp min, max and avg query with start & end date (will return Temp Min, Max Avg respectively): /api/v1.0/<start>/<end>\"\n",
    "        \n",
    "    )"
   ]
  },
  {
   "cell_type": "code",
   "execution_count": 28,
   "metadata": {},
   "outputs": [],
   "source": [
    "@app.route(\"/api/v1.0/precipitation\")\n",
    "def precipitation():\n",
    "    #Query for the dates and temperature observations from the last year.\n",
    "    year_ago_date = dt.date.today() - dt.timedelta(days=365)\n",
    "    Temp_obs_last_year=session.query(Measurement.date,func.avg(Measurement.tobs)).\\\n",
    "    filter(Measurement.date > year_ago_date).group_by(Measurement.date).order_by(Measurement.date).all()\n",
    "    \n",
    "    #Convert the query results to a Dictionary using date as the key and tobs as the value.\n",
    "    Temp_obs_lastyear_dict={}\n",
    "    Temp_obs_lastyear_list=[]\n",
    "    i=0\n",
    "    for values in Temp_obs_last_year:\n",
    "        Temp_obs_lastyear_dict[Temp_obs_last_year[i][0]]=Temp_obs_last_year[i][1]\n",
    "        Temp_obs_lastyear_list.append(Temp_obs_lastyear_dict)\n",
    "        i=i+1\n",
    "        \n",
    "    #Return the json representation of your dictionary\n",
    "    return jsonify(Temp_obs_lastyear_list)\n",
    "    "
   ]
  },
  {
   "cell_type": "code",
   "execution_count": 48,
   "metadata": {},
   "outputs": [],
   "source": [
    "@app.route(\"/api/v1.0/stations\")\n",
    "def stations():\n",
    "    #Return a json list of stations from the dataset\n",
    "    Stations=session.query(Station.name).all()\n",
    "    Stations_ravel=list(np.ravel(Stations))\n",
    "    return (jsonify(Stations_ravel))"
   ]
  },
  {
   "cell_type": "code",
   "execution_count": 51,
   "metadata": {},
   "outputs": [],
   "source": [
    "@app.route(\"/api/v1.0/tobs\")\n",
    "#Return a json list of Temperature Observations (tobs) for the previous year\n",
    "def Temp_obs_lastyear():\n",
    "    year_ago_date = dt.date.today() - dt.timedelta(days=365)\n",
    "    Temp_obs_last_year=session.query(Measurement.tobs).\\\n",
    "    filter(Measurement.date > year_ago_date).all()\n",
    "    \n",
    "    Temp_obs_last_year_format=list(np.ravel(Temp_obs_last_year))\n",
    "    return (jsonify(Temp_obs_last_year_format))\n",
    "    \n",
    "    "
   ]
  },
  {
   "cell_type": "code",
   "execution_count": 58,
   "metadata": {},
   "outputs": [],
   "source": [
    "@app.route(\"/api/v1.0/<start>\")\n",
    "def start_date():\n",
    "    start_date_lastyear=(dt.datetime.strptime(start, '%Y-%m-%d'))-dt.timedelta(days=365)\n",
    "    \n",
    "    TMIN=session.query(func.avg(Measurement.tobs)).filter(Measurement.date >=start_date_lastyear).\\\n",
    "        group_by(Measurement.date).order_by(func.avg(Measurement.tobs)).first()\n",
    "        \n",
    "    TMAX=session.query(func.avg(Measurement.tobs)).filter(Measurement.date >=start_date_lastyear).\\\n",
    "        group_by(Measurement.date).order_by(func.avg(Measurement.tobs).desc()).first()\n",
    "    \n",
    "    TAVG=session.query(func.avg(Measurement.tobs)).filter(Measurement.date >=start_date_lastyear).all()\n",
    "    \n",
    "    \n",
    "    return (TMIN,TMAX,TAVG)\n",
    "    \n"
   ]
  },
  {
   "cell_type": "code",
   "execution_count": 60,
   "metadata": {},
   "outputs": [],
   "source": [
    "@app.route(\"/api/v1.0/<start>/<end>\")\n",
    "def start_date_and_end_date():\n",
    "    start_date_lastyear=(dt.datetime.strptime(start, '%Y-%m-%d'))-dt.timedelta(days=365)\n",
    "    end_date_lastyear=(dt.datetime.strptime(end, '%Y-%m-%d'))-dt.timedelta(days=365)\n",
    "    \n",
    "    TMIN=session.query(func.avg(Measurement.tobs)).filter(Measurement.date >=start_date_lastyear).\\\n",
    "    filter(Measurement.date <= end_date_lastyear).\\\n",
    "    group_by(Measurement.date).order_by(func.avg(Measurement.tobs)).first()\n",
    "        \n",
    "    TMAX=session.query(func.avg(Measurement.tobs)).filter(Measurement.date >=start_date_lastyear).\\\n",
    "    filter(Measurement.date <= end_date_lastyear).\\\n",
    "    group_by(Measurement.date).order_by(func.avg(Measurement.tobs).desc()).first()\n",
    "    \n",
    "    TAVG=session.query(func.avg(Measurement.tobs)).filter(Measurement.date >=start_date_lastyear).\\\n",
    "    filter(Measurement.date <= end_date_lastyear).all()\n",
    "    \n",
    "    \n",
    "    return (TMIN,TMAX,TAVG)"
   ]
  },
  {
   "cell_type": "code",
   "execution_count": null,
   "metadata": {},
   "outputs": [],
   "source": [
    "if __name__ == \"__main__\":\n",
    "    app.run(debug=True)"
   ]
  }
 ],
 "metadata": {
  "kernelspec": {
   "display_name": "Python 3",
   "language": "python",
   "name": "python3"
  },
  "language_info": {
   "codemirror_mode": {
    "name": "ipython",
    "version": 3
   },
   "file_extension": ".py",
   "mimetype": "text/x-python",
   "name": "python",
   "nbconvert_exporter": "python",
   "pygments_lexer": "ipython3",
   "version": "3.6.4"
  }
 },
 "nbformat": 4,
 "nbformat_minor": 2
}
