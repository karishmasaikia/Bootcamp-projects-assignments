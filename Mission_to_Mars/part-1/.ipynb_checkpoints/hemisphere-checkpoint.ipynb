{
 "cells": [
  {
   "cell_type": "code",
   "execution_count": 1,
   "metadata": {},
   "outputs": [],
   "source": [
    "from splinter import Browser\n",
    "from bs4 import BeautifulSoup\n",
    "from selenium import webdriver"
   ]
  },
  {
   "cell_type": "code",
   "execution_count": 2,
   "metadata": {},
   "outputs": [],
   "source": [
    "executable_path = {\"executable_path\": \"chromedriver.exe\"}\n",
    "browser = Browser('chrome', **executable_path, headless=False)"
   ]
  },
  {
   "cell_type": "code",
   "execution_count": 3,
   "metadata": {},
   "outputs": [],
   "source": [
    "ori_url='https://astrogeology.usgs.gov'"
   ]
  },
  {
   "cell_type": "code",
   "execution_count": 4,
   "metadata": {},
   "outputs": [],
   "source": [
    "\n",
    "url = 'https://astrogeology.usgs.gov/search/results?q=hemisphere+enhanced&k1=target&v1=Mars'\n",
    "browser.visit(url)\n",
    "html = browser.html\n",
    "soup = BeautifulSoup(html, 'html.parser')\n",
    "# urls = soup.find_all('div', class_='image_container')"
   ]
  },
  {
   "cell_type": "code",
   "execution_count": 5,
   "metadata": {},
   "outputs": [
    {
     "name": "stdout",
     "output_type": "stream",
     "text": [
      "<a class=\"itemLink product-item\" href=\"/search/map/Mars/Viking/schiaparelli_enhanced\"><img alt=\"Schiaparelli Hemisphere Enhanced thumbnail\" class=\"thumb\" src=\"/cache/images/7677c0a006b83871b5a2f66985ab5857_schiaparelli_enhanced.tif_thumb.png\"/></a>\n",
      "<a class=\"itemLink product-item\" href=\"/search/map/Mars/Viking/schiaparelli_enhanced\"><h3>Schiaparelli Hemisphere Enhanced</h3></a>\n"
     ]
    }
   ],
   "source": [
    "results=soup.find_all('a',class_=\"itemLink product-item\")\n",
    "print(results[2])\n",
    "print(results[3])"
   ]
  },
  {
   "cell_type": "code",
   "execution_count": 6,
   "metadata": {},
   "outputs": [],
   "source": [
    "# image_url[0].a.text\n",
    "hemisphere_image_urls=[]"
   ]
  },
  {
   "cell_type": "code",
   "execution_count": 8,
   "metadata": {},
   "outputs": [
    {
     "name": "stdout",
     "output_type": "stream",
     "text": [
      "Cerberus Hemisphere \n",
      "Schiaparelli Hemisphere \n",
      "Syrtis Major Hemisphere \n",
      "Valles Marineris Hemisphere \n"
     ]
    }
   ],
   "source": [
    "for result in results:\n",
    "    #as there was duplication of paths, so this condition was used\n",
    "    if(result.h3):\n",
    "        text_hemisphere=result.h3.text\n",
    "        title_list=text_hemisphere.split('Enhanced')\n",
    "        title=title_list[0]\n",
    "        print(title)\n",
    "        \n",
    "        image_link_url=result['href']\n",
    "        new_url=ori_url + image_link_url\n",
    "        \n",
    "        executable_path = {\"executable_path\": \"chromedriver.exe\"}\n",
    "        #headless=True, doesnt open chromedriver\n",
    "        browser_img = Browser('chrome', **executable_path, headless=True)\n",
    "        url_img = new_url\n",
    "        browser_img.visit(url_img)\n",
    "        html_img = browser_img.html\n",
    "        soup_img= BeautifulSoup(html_img, 'html.parser')\n",
    "        \n",
    "        image_urls=soup_img.find_all('div',class_='downloads')\n",
    "        \n",
    "        for imageurl in image_urls:\n",
    "#             if(image_url.a.text==\"Sample\"):\n",
    "                image_url=imageurl.a['href']\n",
    "                    \n",
    "                hemisphere_details = [{\n",
    "                'title': title,\n",
    "                 'img_url': image_url}]\n",
    "            \n",
    "                \n",
    "                hemisphere_image_urls.append(hemisphere_details)\n",
    "        \n",
    "        \n",
    "        \n",
    "        \n"
   ]
  },
  {
   "cell_type": "code",
   "execution_count": 70,
   "metadata": {},
   "outputs": [
    {
     "data": {
      "text/plain": [
       "[[{'img_url': 'http://astropedia.astrogeology.usgs.gov/download/Mars/Viking/cerberus_enhanced.tif/full.jpg',\n",
       "   'title': 'Cerberus Hemisphere '}],\n",
       " [{'img_url': 'http://astropedia.astrogeology.usgs.gov/download/Mars/Viking/schiaparelli_enhanced.tif/full.jpg',\n",
       "   'title': 'Schiaparelli Hemisphere '}],\n",
       " [{'img_url': 'http://astropedia.astrogeology.usgs.gov/download/Mars/Viking/syrtis_major_enhanced.tif/full.jpg',\n",
       "   'title': 'Syrtis Major Hemisphere '}],\n",
       " [{'img_url': 'http://astropedia.astrogeology.usgs.gov/download/Mars/Viking/valles_marineris_enhanced.tif/full.jpg',\n",
       "   'title': 'Valles Marineris Hemisphere '}]]"
      ]
     },
     "execution_count": 70,
     "metadata": {},
     "output_type": "execute_result"
    }
   ],
   "source": [
    "hemisphere_image_urls"
   ]
  },
  {
   "cell_type": "code",
   "execution_count": null,
   "metadata": {},
   "outputs": [],
   "source": []
  }
 ],
 "metadata": {
  "kernelspec": {
   "display_name": "Python 3",
   "language": "python",
   "name": "python3"
  },
  "language_info": {
   "codemirror_mode": {
    "name": "ipython",
    "version": 3
   },
   "file_extension": ".py",
   "mimetype": "text/x-python",
   "name": "python",
   "nbconvert_exporter": "python",
   "pygments_lexer": "ipython3",
   "version": "3.6.4"
  }
 },
 "nbformat": 4,
 "nbformat_minor": 2
}
